{
 "cells": [
  {
   "cell_type": "code",
   "execution_count": 5,
   "metadata": {},
   "outputs": [],
   "source": [
    "import matplotlib.pyplot as plt\n",
    "import numpy as np\n",
    "import seaborn as sns\n",
    "sns.set_style(style=\"whitegrid\")"
   ]
  },
  {
   "cell_type": "code",
   "execution_count": 174,
   "metadata": {},
   "outputs": [],
   "source": [
    "sns.reset_defaults()"
   ]
  },
  {
   "cell_type": "code",
   "execution_count": 21,
   "metadata": {
    "slideshow": {
     "slide_type": "slide"
    }
   },
   "outputs": [],
   "source": [
    "xy = [(-3,+1),(-2,+1),(-1,-1),(0,+1),(1,-1),(2,+1),(3,+1)]\n",
    "x = np.array(list(map(lambda fst: fst[0], xy)))\n",
    "y = np.array(list(map(lambda fst: fst[1], xy)))"
   ]
  },
  {
   "cell_type": "code",
   "execution_count": 22,
   "metadata": {
    "slideshow": {
     "slide_type": "subslide"
    }
   },
   "outputs": [],
   "source": [
    "def phi(x):\n",
    "    return (-8/3)*(x**2) + (2/3)*(x**4)\n",
    "x_trans = np.array(list(map(phi, x)))"
   ]
  },
  {
   "cell_type": "code",
   "execution_count": 23,
   "metadata": {},
   "outputs": [
    {
     "data": {
      "image/png": "[encoded data removed]",
      "text/plain": [
       "<Figure size 432x288 with 1 Axes>"
      ]
     },
     "metadata": {},
     "output_type": "display_data"
    }
   ],
   "source": [
    "w = np.array([[1],[10]])\n",
    "phi = np.array([x, x_trans])\n",
    "\n",
    "np.dot(w.T, phi)\n",
    "\n",
    "fig, ax = plt.subplots()\n",
    "color_dict = {1:'b', -1: 'r'}\n",
    "lab_dict = {1:\"Y = 1\", -1: \"Y = -1\"}\n",
    "def swapfor(mapping, ls2):\n",
    "    return [mapping[el2]for el2 in ls2]\n",
    "\n",
    "for g in np.unique(y):\n",
    "    i = np.where(y == g)\n",
    "    ax.scatter(x[i], x_trans[i], c=color_dict[g], label=lab_dict[g])\n",
    "\n",
    "\n",
    "linex = np.linspace(-3, 3, 100)\n",
    "liney = np.ones(len(linex))*-1\n",
    "ax.plot(linex, liney, label=r\"$\\Phi(x) = -1$\");\n",
    "ax.legend()\n",
    "ax.set_ylabel(r'$\\Phi(x)$', fontsize=15)\n",
    "ax.set_xlabel(r'$x$', fontsize=15)\n",
    "ax.set_title('Transformed data', fontsize=20)\n",
    "\n",
    "plt.show()"
   ]
  },
  {
   "cell_type": "code",
   "execution_count": 6,
   "metadata": {},
   "outputs": [],
   "source": [
    "# pics = np.load(\"data/images.npy\", allow_pickle=False)\n",
    "small_dataset = np.load(\"data/small_dataset.npy\")\n",
    "# small_labels = np.load(\"data/small_dataset_labels.npy\").astype(int)\n",
    "large_dataset = np.load(\"data/large_dataset.npy\")\n",
    "test_data = np.load(\"P2_Autograder_Data.npy\")"
   ]
  },
  {
   "cell_type": "code",
   "execution_count": 14,
   "metadata": {},
   "outputs": [],
   "source": [
    "def disp(array):\n",
    "    plt.figure()\n",
    "    plt.imshow(array.reshape(28,28), cmap='Greys_r')\n",
    "    plt.show()"
   ]
  },
  {
   "cell_type": "code",
   "execution_count": 30,
   "metadata": {},
   "outputs": [],
   "source": [
    "def make_one_hot(array):\n",
    "    one_hot = np.zeros(array.shape)\n",
    "    min_pos = np.array([np.argmin(row) for row in array])\n",
    "    one_hot[np.arange(array.shape[0]), min_pos] = 1\n",
    "    return one_hot\n",
    "    \n",
    "def distance(p1, p2):\n",
    "    return sum(pow(p1-p2, 2))\n",
    "\n",
    "def loss_func(data, mu, resp):\n",
    "    loss_list = []\n",
    "    # Loop through each datapoint in the dataset\n",
    "    for datapoint, res in zip(data, resp):\n",
    "        cluster = np.argmax(res)\n",
    "        loss_list.append(distance(datapoint, mu[cluster]))\n",
    "    return sum(loss_list)\n",
    "    \n",
    "def cluster_mean(resp, data):\n",
    "    # for each datapoint in cluster c,\n",
    "    # sum it's vals and divide by number in class\n",
    "    class_sums = np.zeros((resp.shape[1], data.shape[1]))\n",
    "    for point, res in zip(data, resp):\n",
    "        class_sums[np.argmax(res)] += point\n",
    "    # count up the number of datapoints in each class    \n",
    "    class_counts = np.sum(resp, axis=0)\n",
    "\n",
    "    # class_mean = np.divide(class_sums, class_counts)\n",
    "    class_mean = []\n",
    "    for class_sum, class_count in zip(class_sums, class_counts):\n",
    "        class_mean.append(np.divide(class_sum, class_count))\n",
    "\n",
    "    class_mean = np.array(class_mean)\n",
    "    return class_mean \n",
    "\n",
    "def adjust_resp(mu, data):\n",
    "    # resp dims: NxC\n",
    "    # mu dims:\n",
    "    positions = []\n",
    "    for point in data:\n",
    "        distances = []\n",
    "        for class_mean in mu:\n",
    "            distances.append(distance(class_mean, point))\n",
    "        one_ht = np.zeros(mu.shape[0])\n",
    "        one_ht[np.argmin(distances)] = 1\n",
    "        positions.append(one_ht)\n",
    "\n",
    "    return np.array(positions)"
   ]
  },
  {
   "cell_type": "code",
   "execution_count": 31,
   "metadata": {},
   "outputs": [],
   "source": [
    "def KMeans(X, K, loss_list):\n",
    "    # initialisation of cluster asignment i.e. responsibility vectors\n",
    "    resp = make_one_hot(np.random.randn(X.shape[0], K))\n",
    "    # Set inital mu, this is the centroid of a cluster\n",
    "    mu = np.random.randn(K, X.shape[1])\n",
    "    # Record losses\n",
    "    loss_list = []\n",
    "\n",
    "    # record the losses at each epoch\n",
    "    converge = False\n",
    "    epoch = 0\n",
    "    while not converge:\n",
    "        # 1 calc the mean of the clusters\n",
    "        mu = cluster_mean(resp, X)\n",
    "\n",
    "        # 2 Calc the loss\n",
    "        current_loss = loss_func(X, mu, resp)\n",
    "\n",
    "        # 3 adjust the responsibility vectors\n",
    "        new_resp = adjust_resp(mu, X)\n",
    "        \n",
    "        # Stop at convergence\n",
    "        if np.array_equal(new_resp, resp):\n",
    "            converge = True\n",
    "        # update responsibility matrix\n",
    "        resp = new_resp\n",
    "        \n",
    "        if epoch > 15:\n",
    "            break\n",
    "        epoch += 1\n",
    "        \n",
    "        loss_list.append(current_loss)"
   ]
  },
  {
   "cell_type": "code",
   "execution_count": 32,
   "metadata": {},
   "outputs": [
    {
     "ename": "KeyboardInterrupt",
     "evalue": "",
     "output_type": "error",
     "traceback": [
      "\u001b[0;31m---------------------------------------------------------------------------\u001b[0m",
      "\u001b[0;31mKeyboardInterrupt\u001b[0m                         Traceback (most recent call last)",
      "\u001b[0;32m<ipython-input-32-3a662df60693>\u001b[0m in \u001b[0;36m<module>\u001b[0;34m\u001b[0m\n\u001b[1;32m      1\u001b[0m \u001b[0mloss_list\u001b[0m \u001b[0;34m=\u001b[0m \u001b[0;34m[\u001b[0m\u001b[0;34m]\u001b[0m\u001b[0;34m\u001b[0m\u001b[0;34m\u001b[0m\u001b[0m\n\u001b[0;32m----> 2\u001b[0;31m \u001b[0mKMeans\u001b[0m\u001b[0;34m(\u001b[0m\u001b[0mlarge_dataset\u001b[0m\u001b[0;34m,\u001b[0m \u001b[0;36m10\u001b[0m\u001b[0;34m,\u001b[0m \u001b[0mloss_list\u001b[0m\u001b[0;34m)\u001b[0m\u001b[0;34m\u001b[0m\u001b[0;34m\u001b[0m\u001b[0m\n\u001b[0m",
      "\u001b[0;32m<ipython-input-31-5b6bd3bac4c6>\u001b[0m in \u001b[0;36mKMeans\u001b[0;34m(X, K, loss_list)\u001b[0m\n\u001b[1;32m     18\u001b[0m \u001b[0;34m\u001b[0m\u001b[0m\n\u001b[1;32m     19\u001b[0m         \u001b[0;31m# 3 adjust the responsibility vectors\u001b[0m\u001b[0;34m\u001b[0m\u001b[0;34m\u001b[0m\u001b[0;34m\u001b[0m\u001b[0m\n\u001b[0;32m---> 20\u001b[0;31m         \u001b[0mnew_resp\u001b[0m \u001b[0;34m=\u001b[0m \u001b[0madjust_resp\u001b[0m\u001b[0;34m(\u001b[0m\u001b[0mmu\u001b[0m\u001b[0;34m,\u001b[0m \u001b[0mX\u001b[0m\u001b[0;34m)\u001b[0m\u001b[0;34m\u001b[0m\u001b[0;34m\u001b[0m\u001b[0m\n\u001b[0m\u001b[1;32m     21\u001b[0m \u001b[0;34m\u001b[0m\u001b[0m\n\u001b[1;32m     22\u001b[0m         \u001b[0;31m# Stop at convergence\u001b[0m\u001b[0;34m\u001b[0m\u001b[0;34m\u001b[0m\u001b[0;34m\u001b[0m\u001b[0m\n",
      "\u001b[0;32m<ipython-input-30-26730ed474d1>\u001b[0m in \u001b[0;36madjust_resp\u001b[0;34m(mu, data)\u001b[0m\n\u001b[1;32m     40\u001b[0m         \u001b[0mdistances\u001b[0m \u001b[0;34m=\u001b[0m \u001b[0;34m[\u001b[0m\u001b[0;34m]\u001b[0m\u001b[0;34m\u001b[0m\u001b[0;34m\u001b[0m\u001b[0m\n\u001b[1;32m     41\u001b[0m         \u001b[0;32mfor\u001b[0m \u001b[0mclass_mean\u001b[0m \u001b[0;32min\u001b[0m \u001b[0mmu\u001b[0m\u001b[0;34m:\u001b[0m\u001b[0;34m\u001b[0m\u001b[0;34m\u001b[0m\u001b[0m\n\u001b[0;32m---> 42\u001b[0;31m             \u001b[0mdistances\u001b[0m\u001b[0;34m.\u001b[0m\u001b[0mappend\u001b[0m\u001b[0;34m(\u001b[0m\u001b[0mdistance\u001b[0m\u001b[0;34m(\u001b[0m\u001b[0mclass_mean\u001b[0m\u001b[0;34m,\u001b[0m \u001b[0mpoint\u001b[0m\u001b[0;34m)\u001b[0m\u001b[0;34m)\u001b[0m\u001b[0;34m\u001b[0m\u001b[0;34m\u001b[0m\u001b[0m\n\u001b[0m\u001b[1;32m     43\u001b[0m         \u001b[0mone_ht\u001b[0m \u001b[0;34m=\u001b[0m \u001b[0mnp\u001b[0m\u001b[0;34m.\u001b[0m\u001b[0mzeros\u001b[0m\u001b[0;34m(\u001b[0m\u001b[0mmu\u001b[0m\u001b[0;34m.\u001b[0m\u001b[0mshape\u001b[0m\u001b[0;34m[\u001b[0m\u001b[0;36m0\u001b[0m\u001b[0;34m]\u001b[0m\u001b[0;34m)\u001b[0m\u001b[0;34m\u001b[0m\u001b[0;34m\u001b[0m\u001b[0m\n\u001b[1;32m     44\u001b[0m         \u001b[0mone_ht\u001b[0m\u001b[0;34m[\u001b[0m\u001b[0mnp\u001b[0m\u001b[0;34m.\u001b[0m\u001b[0margmin\u001b[0m\u001b[0;34m(\u001b[0m\u001b[0mdistances\u001b[0m\u001b[0;34m)\u001b[0m\u001b[0;34m]\u001b[0m \u001b[0;34m=\u001b[0m \u001b[0;36m1\u001b[0m\u001b[0;34m\u001b[0m\u001b[0;34m\u001b[0m\u001b[0m\n",
      "\u001b[0;32m<ipython-input-30-26730ed474d1>\u001b[0m in \u001b[0;36mdistance\u001b[0;34m(p1, p2)\u001b[0m\n\u001b[1;32m      6\u001b[0m \u001b[0;34m\u001b[0m\u001b[0m\n\u001b[1;32m      7\u001b[0m \u001b[0;32mdef\u001b[0m \u001b[0mdistance\u001b[0m\u001b[0;34m(\u001b[0m\u001b[0mp1\u001b[0m\u001b[0;34m,\u001b[0m \u001b[0mp2\u001b[0m\u001b[0;34m)\u001b[0m\u001b[0;34m:\u001b[0m\u001b[0;34m\u001b[0m\u001b[0;34m\u001b[0m\u001b[0m\n\u001b[0;32m----> 8\u001b[0;31m     \u001b[0;32mreturn\u001b[0m \u001b[0msum\u001b[0m\u001b[0;34m(\u001b[0m\u001b[0mpow\u001b[0m\u001b[0;34m(\u001b[0m\u001b[0mp1\u001b[0m\u001b[0;34m-\u001b[0m\u001b[0mp2\u001b[0m\u001b[0;34m,\u001b[0m \u001b[0;36m2\u001b[0m\u001b[0;34m)\u001b[0m\u001b[0;34m)\u001b[0m\u001b[0;34m\u001b[0m\u001b[0;34m\u001b[0m\u001b[0m\n\u001b[0m\u001b[1;32m      9\u001b[0m \u001b[0;34m\u001b[0m\u001b[0m\n\u001b[1;32m     10\u001b[0m \u001b[0;32mdef\u001b[0m \u001b[0mloss_func\u001b[0m\u001b[0;34m(\u001b[0m\u001b[0mdata\u001b[0m\u001b[0;34m,\u001b[0m \u001b[0mmu\u001b[0m\u001b[0;34m,\u001b[0m \u001b[0mresp\u001b[0m\u001b[0;34m)\u001b[0m\u001b[0;34m:\u001b[0m\u001b[0;34m\u001b[0m\u001b[0;34m\u001b[0m\u001b[0m\n",
      "\u001b[0;31mKeyboardInterrupt\u001b[0m: "
     ]
    }
   ],
   "source": [
    "loss_list = []\n",
    "KMeans(large_dataset, 10, loss_list)"
   ]
  },
  {
   "cell_type": "code",
   "execution_count": 7,
   "metadata": {},
   "outputs": [],
   "source": [
    "class KMeans(object):\n",
    "    # K is the K in KMeans\n",
    "    def __init__(self, K):\n",
    "        self.K = K\n",
    "    \n",
    "    def __make_one_hot(self, array):\n",
    "        one_hot = np.zeros(array.shape)\n",
    "        min_pos = np.array([np.argmin(row) for row in array])\n",
    "        one_hot[np.arange(array.shape[0]), min_pos] = 1\n",
    "        return one_hot \n",
    "\n",
    "    def __distance(self, p1, p2):\n",
    "        # calulate the l2 distance between points, i.e. euclidean\n",
    "        # each is a 1xD matrix\n",
    "        return sum(pow(p1-p2, 2))\n",
    "       \n",
    "    # X is a (N x 28 x 28) array where 28x28 is the dimensions of each of the N images.\n",
    "    def fit(self, X):\n",
    "        # 1 Find the cluster centers (cluster mean)\n",
    "        def cluster_mean(resp, data):\n",
    "            # for each datapoint in cluster c,\n",
    "            # sum it's vals and divide by number in class\n",
    "            class_sums = np.zeros((resp.shape[1], data.shape[1]))\n",
    "            for point, res in zip(data, resp):\n",
    "                class_sums[np.argmax(res)] += point\n",
    "            # count up the number of datapoints in each class    \n",
    "            class_counts = np.sum(resp, axis=0)\n",
    "            \n",
    "            # class_mean = np.divide(class_sums, class_counts)\n",
    "            class_mean = []\n",
    "            for class_sum, class_count in zip(class_sums, class_counts):\n",
    "                class_mean.append(np.divide(class_sum, class_count))\n",
    "                \n",
    "            class_mean = np.array(class_mean)\n",
    "            return class_mean \n",
    "\n",
    "        # 2 adjust reponsibility vectors\n",
    "        def adjust_resp(mu, data):\n",
    "            # resp dims: NxC\n",
    "            # mu dims:\n",
    "            positions = []\n",
    "            for point in data:\n",
    "                distances = []\n",
    "                for class_mean in mu:\n",
    "                    distances.append(self.__distance(class_mean, point))\n",
    "                one_ht = np.zeros(mu.shape[0])\n",
    "                one_ht[np.argmin(distances)] = 1\n",
    "                positions.append(one_ht)\n",
    "                \n",
    "            return np.array(positions)\n",
    "\n",
    "        # 3 calculate the loss\n",
    "        def loss_func(data, mu, resp):\n",
    "            loss_list = []\n",
    "            # Loop through each datapoint in the dataset\n",
    "            for datapoint, res in zip(data, resp):\n",
    "                cluster = np.argmax(res)\n",
    "                loss_list.append(self.__distance(datapoint, mu[cluster]))\n",
    "            return sum(loss_list)\n",
    "\n",
    "        # initialisation of cluster asignment i.e. responsibility vectors\n",
    "        self.resp = self.__make_one_hot(np.random.randn(X.shape[0], self.K))\n",
    "        # Set inital mu\n",
    "        self.mu = np.random.randn(self.K, X.shape[1])\n",
    "        self.loss_list = []\n",
    "\n",
    "        # record the losses at each epoch\n",
    "        converge = False\n",
    "        epoch = 0\n",
    "        while not converge:\n",
    "            # 1 calc the mean of the clusters\n",
    "            self.mu = cluster_mean(self.resp, X)\n",
    "            \n",
    "            # 2 Calc the loss\n",
    "            current_loss = loss_func(X, self.mu, self.resp)\n",
    "\n",
    "            # 3 adjust the responsibility vectors\n",
    "            new_resp = adjust_resp(self.mu, X)\n",
    "            if np.array_equal(new_resp, self.resp):\n",
    "                converge = True\n",
    "            self.resp = new_resp\n",
    "            if epoch > 15:\n",
    "                break\n",
    "            epoch += 1\n",
    "            self.loss_list.append(current_loss)\n",
    "#             print(\"Epoch:\", epoch)\n",
    "\n",
    "    # This should return the arrays for K images. Each image should represent the mean of each of the fitted clusters.\n",
    "    def get_mean_images(self):\n",
    "        return self.mu"
   ]
  },
  {
   "cell_type": "code",
   "execution_count": 8,
   "metadata": {},
   "outputs": [
    {
     "ename": "KeyboardInterrupt",
     "evalue": "",
     "output_type": "error",
     "traceback": [
      "\u001b[0;31m---------------------------------------------------------------------------\u001b[0m",
      "\u001b[0;31mKeyboardInterrupt\u001b[0m                         Traceback (most recent call last)",
      "\u001b[0;32m<ipython-input-8-8f194daee636>\u001b[0m in \u001b[0;36m<module>\u001b[0;34m\u001b[0m\n\u001b[1;32m      1\u001b[0m \u001b[0mKMeansClassifier\u001b[0m \u001b[0;34m=\u001b[0m \u001b[0mKMeans\u001b[0m\u001b[0;34m(\u001b[0m\u001b[0mK\u001b[0m\u001b[0;34m=\u001b[0m\u001b[0;36m10\u001b[0m\u001b[0;34m)\u001b[0m\u001b[0;34m\u001b[0m\u001b[0;34m\u001b[0m\u001b[0m\n\u001b[0;32m----> 2\u001b[0;31m \u001b[0mKMeansClassifier\u001b[0m\u001b[0;34m.\u001b[0m\u001b[0mfit\u001b[0m\u001b[0;34m(\u001b[0m\u001b[0mlarge_dataset\u001b[0m\u001b[0;34m)\u001b[0m\u001b[0;34m\u001b[0m\u001b[0;34m\u001b[0m\u001b[0m\n\u001b[0m",
      "\u001b[0;32m<ipython-input-7-1847826e0237>\u001b[0m in \u001b[0;36mfit\u001b[0;34m(self, X)\u001b[0m\n\u001b[1;32m     76\u001b[0m \u001b[0;34m\u001b[0m\u001b[0m\n\u001b[1;32m     77\u001b[0m             \u001b[0;31m# 3 adjust the responsibility vectors\u001b[0m\u001b[0;34m\u001b[0m\u001b[0;34m\u001b[0m\u001b[0;34m\u001b[0m\u001b[0m\n\u001b[0;32m---> 78\u001b[0;31m             \u001b[0mnew_resp\u001b[0m \u001b[0;34m=\u001b[0m \u001b[0madjust_resp\u001b[0m\u001b[0;34m(\u001b[0m\u001b[0mself\u001b[0m\u001b[0;34m.\u001b[0m\u001b[0mmu\u001b[0m\u001b[0;34m,\u001b[0m \u001b[0mX\u001b[0m\u001b[0;34m)\u001b[0m\u001b[0;34m\u001b[0m\u001b[0;34m\u001b[0m\u001b[0m\n\u001b[0m\u001b[1;32m     79\u001b[0m             \u001b[0;32mif\u001b[0m \u001b[0mnp\u001b[0m\u001b[0;34m.\u001b[0m\u001b[0marray_equal\u001b[0m\u001b[0;34m(\u001b[0m\u001b[0mnew_resp\u001b[0m\u001b[0;34m,\u001b[0m \u001b[0mself\u001b[0m\u001b[0;34m.\u001b[0m\u001b[0mresp\u001b[0m\u001b[0;34m)\u001b[0m\u001b[0;34m:\u001b[0m\u001b[0;34m\u001b[0m\u001b[0;34m\u001b[0m\u001b[0m\n\u001b[1;32m     80\u001b[0m                 \u001b[0mconverge\u001b[0m \u001b[0;34m=\u001b[0m \u001b[0;32mTrue\u001b[0m\u001b[0;34m\u001b[0m\u001b[0;34m\u001b[0m\u001b[0m\n",
      "\u001b[0;32m<ipython-input-7-1847826e0237>\u001b[0m in \u001b[0;36madjust_resp\u001b[0;34m(mu, data)\u001b[0m\n\u001b[1;32m     43\u001b[0m                 \u001b[0mdistances\u001b[0m \u001b[0;34m=\u001b[0m \u001b[0;34m[\u001b[0m\u001b[0;34m]\u001b[0m\u001b[0;34m\u001b[0m\u001b[0;34m\u001b[0m\u001b[0m\n\u001b[1;32m     44\u001b[0m                 \u001b[0;32mfor\u001b[0m \u001b[0mclass_mean\u001b[0m \u001b[0;32min\u001b[0m \u001b[0mmu\u001b[0m\u001b[0;34m:\u001b[0m\u001b[0;34m\u001b[0m\u001b[0;34m\u001b[0m\u001b[0m\n\u001b[0;32m---> 45\u001b[0;31m                     \u001b[0mdistances\u001b[0m\u001b[0;34m.\u001b[0m\u001b[0mappend\u001b[0m\u001b[0;34m(\u001b[0m\u001b[0mself\u001b[0m\u001b[0;34m.\u001b[0m\u001b[0m__distance\u001b[0m\u001b[0;34m(\u001b[0m\u001b[0mclass_mean\u001b[0m\u001b[0;34m,\u001b[0m \u001b[0mpoint\u001b[0m\u001b[0;34m)\u001b[0m\u001b[0;34m)\u001b[0m\u001b[0;34m\u001b[0m\u001b[0;34m\u001b[0m\u001b[0m\n\u001b[0m\u001b[1;32m     46\u001b[0m                 \u001b[0mone_ht\u001b[0m \u001b[0;34m=\u001b[0m \u001b[0mnp\u001b[0m\u001b[0;34m.\u001b[0m\u001b[0mzeros\u001b[0m\u001b[0;34m(\u001b[0m\u001b[0mmu\u001b[0m\u001b[0;34m.\u001b[0m\u001b[0mshape\u001b[0m\u001b[0;34m[\u001b[0m\u001b[0;36m0\u001b[0m\u001b[0;34m]\u001b[0m\u001b[0;34m)\u001b[0m\u001b[0;34m\u001b[0m\u001b[0;34m\u001b[0m\u001b[0m\n\u001b[1;32m     47\u001b[0m                 \u001b[0mone_ht\u001b[0m\u001b[0;34m[\u001b[0m\u001b[0mnp\u001b[0m\u001b[0;34m.\u001b[0m\u001b[0margmin\u001b[0m\u001b[0;34m(\u001b[0m\u001b[0mdistances\u001b[0m\u001b[0;34m)\u001b[0m\u001b[0;34m]\u001b[0m \u001b[0;34m=\u001b[0m \u001b[0;36m1\u001b[0m\u001b[0;34m\u001b[0m\u001b[0;34m\u001b[0m\u001b[0m\n",
      "\u001b[0;32m<ipython-input-7-1847826e0237>\u001b[0m in \u001b[0;36m__distance\u001b[0;34m(self, p1, p2)\u001b[0m\n\u001b[1;32m     13\u001b[0m         \u001b[0;31m# calulate the l2 distance between points, i.e. euclidean\u001b[0m\u001b[0;34m\u001b[0m\u001b[0;34m\u001b[0m\u001b[0;34m\u001b[0m\u001b[0m\n\u001b[1;32m     14\u001b[0m         \u001b[0;31m# each is a 1xD matrix\u001b[0m\u001b[0;34m\u001b[0m\u001b[0;34m\u001b[0m\u001b[0;34m\u001b[0m\u001b[0m\n\u001b[0;32m---> 15\u001b[0;31m         \u001b[0;32mreturn\u001b[0m \u001b[0msum\u001b[0m\u001b[0;34m(\u001b[0m\u001b[0mpow\u001b[0m\u001b[0;34m(\u001b[0m\u001b[0mp1\u001b[0m\u001b[0;34m-\u001b[0m\u001b[0mp2\u001b[0m\u001b[0;34m,\u001b[0m \u001b[0;36m2\u001b[0m\u001b[0;34m)\u001b[0m\u001b[0;34m)\u001b[0m\u001b[0;34m\u001b[0m\u001b[0;34m\u001b[0m\u001b[0m\n\u001b[0m\u001b[1;32m     16\u001b[0m \u001b[0;34m\u001b[0m\u001b[0m\n\u001b[1;32m     17\u001b[0m     \u001b[0;31m# X is a (N x 28 x 28) array where 28x28 is the dimensions of each of the N images.\u001b[0m\u001b[0;34m\u001b[0m\u001b[0;34m\u001b[0m\u001b[0;34m\u001b[0m\u001b[0m\n",
      "\u001b[0;31mKeyboardInterrupt\u001b[0m: "
     ]
    }
   ],
   "source": [
    "KMeansClassifier = KMeans(K=10)\n",
    "KMeansClassifier.fit(large_dataset)"
   ]
  },
  {
   "cell_type": "code",
   "execution_count": null,
   "metadata": {},
   "outputs": [],
   "source": [
    "fig, ax = plt.subplots()\n",
    "ax.plot(np.array(KMeansClassifier.loss_list));\n",
    "ax.set_ylabel('Loss', fontsize=15)\n",
    "ax.set_xlabel('Iterations', fontsize=15)\n",
    "ax.set_title('K-means objective function', fontsize=20)\n",
    "plt.show()"
   ]
  },
  {
   "cell_type": "code",
   "execution_count": null,
   "metadata": {},
   "outputs": [],
   "source": [
    "for cls in KMeansClassifier.mu:\n",
    "    disp(cls)"
   ]
  },
  {
   "cell_type": "markdown",
   "metadata": {},
   "source": [
    "Run K-means for 5 different restarts for different values of K = 5,10,20. Make a plot of the final K-means objective value after your algorithm converges (y-axis) v. the values of K (x-axis), with each data point having an error bar. To compute these error bars, you will use the 5 final objective values from the restarts for |each K to calculate a standard deviation for each K.\n",
    "How does the final value of the objective function and its standard deviation change with K? (Note: Our code takes 10 minutes to run for this part.)"
   ]
  },
  {
   "cell_type": "code",
   "execution_count": 3,
   "metadata": {},
   "outputs": [],
   "source": [
    "save_kmcs = []"
   ]
  },
  {
   "cell_type": "code",
   "execution_count": 19,
   "metadata": {},
   "outputs": [
    {
     "name": "stdout",
     "output_type": "stream",
     "text": [
      "Converged1!\n",
      "Converged1!\n",
      "Converged1!\n",
      "Converged1!\n",
      "Converged1!\n",
      "Converged1!\n",
      "Converged1!\n",
      "Converged1!\n",
      "Converged1!\n",
      "Converged1!\n",
      "Converged1!\n",
      "Converged1!\n",
      "Converged1!\n",
      "Converged1!\n",
      "Converged1!\n"
     ]
    }
   ],
   "source": [
    "for k in [5,10,20]:\n",
    "    for restart in range(5):\n",
    "        KMC = KMeans(K=k)\n",
    "        KMC.fit(large_dataset)\n",
    "        save_kmcs.append(KMC)\n",
    "        print(\"Converged1!\")"
   ]
  },
  {
   "cell_type": "code",
   "execution_count": null,
   "metadata": {},
   "outputs": [],
   "source": []
  },
  {
   "cell_type": "code",
   "execution_count": 48,
   "metadata": {},
   "outputs": [],
   "source": [
    "fllossls = []\n",
    "\n",
    "for kmc in save_kmcs:\n",
    "    fllossls.append(kmc.loss_list[-1])\n"
   ]
  },
  {
   "cell_type": "code",
   "execution_count": 51,
   "metadata": {},
   "outputs": [],
   "source": [
    "lossls = fllossls[5:]"
   ]
  },
  {
   "cell_type": "code",
   "execution_count": 53,
   "metadata": {},
   "outputs": [
    {
     "data": {
      "text/plain": [
       "array([[1.42410798e+10, 1.40577714e+10, 1.40582114e+10, 1.40577433e+10,\n",
       "        1.42416824e+10],\n",
       "       [1.26501354e+10, 1.26915306e+10, 1.27962506e+10, 1.27684901e+10,\n",
       "        1.26502263e+10],\n",
       "       [1.12772526e+10, 1.13477094e+10, 1.12914389e+10, 1.12193198e+10,\n",
       "        1.13084271e+10]])"
      ]
     },
     "execution_count": 53,
     "metadata": {},
     "output_type": "execute_result"
    }
   ],
   "source": []
  },
  {
   "cell_type": "code",
   "execution_count": 123,
   "metadata": {},
   "outputs": [],
   "source": [
    "sns.set_style(style=\"whitegrid\")"
   ]
  },
  {
   "cell_type": "code",
   "execution_count": 124,
   "metadata": {},
   "outputs": [
    {
     "data": {
      "image/png": "[encoded data removed]",
      "text/plain": [
       "<Figure size 800x600 with 1 Axes>"
      ]
     },
     "metadata": {},
     "output_type": "display_data"
    }
   ],
   "source": [
    "fig, ax = plt.subplots(figsize=(8, 6))\n",
    "\n",
    "los = np.array(lossls).reshape(3,5)\n",
    "klis = [5,10,20]\n",
    "\n",
    "for num,ls in enumerate(los):\n",
    "    x = klis[num]\n",
    "    stdev = np.std(ls)\n",
    "    for y in ls:\n",
    "#         ax.scatter(x, y, color='b', marker=\"x\")\n",
    "        plt.errorbar(x, y, yerr=stdev, color='b', fmt='x')\n",
    "    \n",
    "ax.set_ylabel('Loss', fontsize=15)\n",
    "ax.set_xlabel('K Values', fontsize=15)\n",
    "ax.set_title('K-means objective value for K=5,10,20', fontsize=20)\n",
    "plt.show()"
   ]
  },
  {
   "cell_type": "code",
   "execution_count": null,
   "metadata": {},
   "outputs": [],
   "source": []
  },
  {
   "cell_type": "code",
   "execution_count": 41,
   "metadata": {},
   "outputs": [],
   "source": [
    "import pickle\n",
    "with open('plswrk3.pkl', 'wb') as f:\n",
    "    pickle.dump([save.mu for save in save_kmcs], f)"
   ]
  },
  {
   "cell_type": "code",
   "execution_count": 33,
   "metadata": {},
   "outputs": [],
   "source": [
    "with open('plswrk.pkl', 'rb') as f:\n",
    "    mynewlist = pickle.load(f)"
   ]
  },
  {
   "cell_type": "markdown",
   "metadata": {},
   "source": [
    "For K = 10 and for 3 random restarts, show the mean image (aka the centroid) for each cluster. To render an image, use the pyplot imshow function. There should be 30 total images. Include all of these images as part of a single plot; your plot must fit on one page."
   ]
  },
  {
   "cell_type": "code",
   "execution_count": 86,
   "metadata": {},
   "outputs": [],
   "source": [
    "adapt_kmcs = save_kmcs[10:13]"
   ]
  },
  {
   "cell_type": "code",
   "execution_count": 87,
   "metadata": {},
   "outputs": [
    {
     "data": {
      "text/plain": [
       "[12650135437.432972, 12691530590.167019, 12796250587.160673]"
      ]
     },
     "execution_count": 87,
     "metadata": {},
     "output_type": "execute_result"
    }
   ],
   "source": [
    "[kmcs.loss_list[-1] for kmcs in adapt_kmcs]"
   ]
  },
  {
   "cell_type": "code",
   "execution_count": 88,
   "metadata": {},
   "outputs": [],
   "source": [
    "imgs= []\n",
    "for kmc in adapt_kmcs:\n",
    "    for img in kmc.mu:\n",
    "        imgs.append(img)"
   ]
  },
  {
   "cell_type": "code",
   "execution_count": 89,
   "metadata": {},
   "outputs": [
    {
     "data": {
      "text/plain": [
       "30"
      ]
     },
     "execution_count": 89,
     "metadata": {},
     "output_type": "execute_result"
    }
   ],
   "source": [
    "len(imgs)"
   ]
  },
  {
   "cell_type": "code",
   "execution_count": 125,
   "metadata": {},
   "outputs": [],
   "source": [
    "def reshuffle(arr):\n",
    "    nw = []\n",
    "    for a,b,c in zip(arr[:10], arr[10:20], arr[20:30]):\n",
    "        nw.append(a)\n",
    "        nw.append(b)\n",
    "        nw.append(c)\n",
    "    return nw"
   ]
  },
  {
   "cell_type": "code",
   "execution_count": 126,
   "metadata": {},
   "outputs": [],
   "source": [
    "nw_imgs = reshuffle(imgs)"
   ]
  },
  {
   "cell_type": "code",
   "execution_count": 175,
   "metadata": {},
   "outputs": [
    {
     "data": {
      "image/png": "[encoded data removed]",
      "text/plain": [
       "<Figure size 900x2600 with 30 Axes>"
      ]
     },
     "metadata": {},
     "output_type": "display_data"
    }
   ],
   "source": [
    "w = 28\n",
    "h = 28\n",
    "fig = plt.figure(figsize=(9, 26))\n",
    "columns = 3\n",
    "rows = 10\n",
    "# ax enables access to manipulate each of subplots\n",
    "ax = []\n",
    "for i in range(columns*rows):\n",
    "    img = nw_imgs[i].reshape(28,28)\n",
    "    ax.append( fig.add_subplot(rows, columns, i+1) )\n",
    "    plt.imshow(img, cmap='Greys_r')\n",
    "\n",
    "plt.show()  # finally, render the plot"
   ]
  },
  {
   "cell_type": "code",
   "execution_count": 128,
   "metadata": {},
   "outputs": [],
   "source": [
    "small_dataset = np.load(\"data/small_dataset.npy\")\n",
    "small_labels = np.load(\"data/small_dataset_labels.npy\").astype(int)"
   ]
  },
  {
   "cell_type": "code",
   "execution_count": 129,
   "metadata": {},
   "outputs": [
    {
     "data": {
      "text/plain": [
       "(300, 784)"
      ]
     },
     "execution_count": 129,
     "metadata": {},
     "output_type": "execute_result"
    }
   ],
   "source": [
    "small_dataset.shape"
   ]
  },
  {
   "cell_type": "code",
   "execution_count": 130,
   "metadata": {},
   "outputs": [],
   "source": [
    "KMC = KMeans(K=10)\n",
    "KMC.fit(small_dataset)"
   ]
  },
  {
   "cell_type": "code",
   "execution_count": 155,
   "metadata": {},
   "outputs": [],
   "source": [
    "re = KMC.resp"
   ]
  },
  {
   "cell_type": "code",
   "execution_count": 156,
   "metadata": {},
   "outputs": [
    {
     "data": {
      "text/plain": [
       "(300, 10)"
      ]
     },
     "execution_count": 156,
     "metadata": {},
     "output_type": "execute_result"
    }
   ],
   "source": [
    "re.shape"
   ]
  },
  {
   "cell_type": "code",
   "execution_count": 157,
   "metadata": {},
   "outputs": [],
   "source": [
    "classes = [np.argmax(row) for row in re]"
   ]
  },
  {
   "cell_type": "code",
   "execution_count": 173,
   "metadata": {},
   "outputs": [
    {
     "data": {
      "text/plain": [
       "[7,\n",
       " 7,\n",
       " 7,\n",
       " 7,\n",
       " 5,\n",
       " 5,\n",
       " 7,\n",
       " 5,\n",
       " 7,\n",
       " 7,\n",
       " 7,\n",
       " 5,\n",
       " 7,\n",
       " 5,\n",
       " 5,\n",
       " 4,\n",
       " 7,\n",
       " 5,\n",
       " 5,\n",
       " 7,\n",
       " 0,\n",
       " 5,\n",
       " 5,\n",
       " 4,\n",
       " 4,\n",
       " 5,\n",
       " 0,\n",
       " 4,\n",
       " 5,\n",
       " 5,\n",
       " 9,\n",
       " 9,\n",
       " 9,\n",
       " 9,\n",
       " 9,\n",
       " 3,\n",
       " 9,\n",
       " 9,\n",
       " 9,\n",
       " 9,\n",
       " 9,\n",
       " 9,\n",
       " 9,\n",
       " 9,\n",
       " 9,\n",
       " 9,\n",
       " 9,\n",
       " 9,\n",
       " 9,\n",
       " 9,\n",
       " 9,\n",
       " 4,\n",
       " 9,\n",
       " 9,\n",
       " 9,\n",
       " 9,\n",
       " 9,\n",
       " 9,\n",
       " 9,\n",
       " 9,\n",
       " 2,\n",
       " 2,\n",
       " 7,\n",
       " 4,\n",
       " 4,\n",
       " 0,\n",
       " 2,\n",
       " 7,\n",
       " 4,\n",
       " 9,\n",
       " 2,\n",
       " 2,\n",
       " 7,\n",
       " 2,\n",
       " 3,\n",
       " 9,\n",
       " 7,\n",
       " 2,\n",
       " 0,\n",
       " 2,\n",
       " 0,\n",
       " 4,\n",
       " 0,\n",
       " 9,\n",
       " 0,\n",
       " 3,\n",
       " 2,\n",
       " 0,\n",
       " 0,\n",
       " 0,\n",
       " 7,\n",
       " 7,\n",
       " 4,\n",
       " 7,\n",
       " 4,\n",
       " 4,\n",
       " 7,\n",
       " 4,\n",
       " 4,\n",
       " 4,\n",
       " 4,\n",
       " 7,\n",
       " 7,\n",
       " 4,\n",
       " 7,\n",
       " 4,\n",
       " 4,\n",
       " 7,\n",
       " 7,\n",
       " 7,\n",
       " 4,\n",
       " 7,\n",
       " 7,\n",
       " 7,\n",
       " 4,\n",
       " 7,\n",
       " 7,\n",
       " 2,\n",
       " 4,\n",
       " 7,\n",
       " 2,\n",
       " 1,\n",
       " 2,\n",
       " 6,\n",
       " 9,\n",
       " 6,\n",
       " 2,\n",
       " 1,\n",
       " 0,\n",
       " 1,\n",
       " 6,\n",
       " 1,\n",
       " 1,\n",
       " 1,\n",
       " 1,\n",
       " 6,\n",
       " 9,\n",
       " 1,\n",
       " 2,\n",
       " 1,\n",
       " 6,\n",
       " 6,\n",
       " 2,\n",
       " 6,\n",
       " 1,\n",
       " 1,\n",
       " 6,\n",
       " 6,\n",
       " 1,\n",
       " 6,\n",
       " 7,\n",
       " 3,\n",
       " 3,\n",
       " 3,\n",
       " 3,\n",
       " 3,\n",
       " 9,\n",
       " 4,\n",
       " 3,\n",
       " 3,\n",
       " 3,\n",
       " 4,\n",
       " 3,\n",
       " 3,\n",
       " 8,\n",
       " 3,\n",
       " 4,\n",
       " 3,\n",
       " 4,\n",
       " 3,\n",
       " 0,\n",
       " 4,\n",
       " 3,\n",
       " 5,\n",
       " 4,\n",
       " 7,\n",
       " 4,\n",
       " 3,\n",
       " 4,\n",
       " 4,\n",
       " 0,\n",
       " 4,\n",
       " 0,\n",
       " 0,\n",
       " 0,\n",
       " 0,\n",
       " 0,\n",
       " 0,\n",
       " 0,\n",
       " 0,\n",
       " 0,\n",
       " 0,\n",
       " 0,\n",
       " 0,\n",
       " 0,\n",
       " 0,\n",
       " 0,\n",
       " 0,\n",
       " 0,\n",
       " 0,\n",
       " 0,\n",
       " 0,\n",
       " 0,\n",
       " 0,\n",
       " 9,\n",
       " 0,\n",
       " 3,\n",
       " 0,\n",
       " 0,\n",
       " 0,\n",
       " 1,\n",
       " 1,\n",
       " 6,\n",
       " 6,\n",
       " 6,\n",
       " 1,\n",
       " 1,\n",
       " 6,\n",
       " 1,\n",
       " 6,\n",
       " 6,\n",
       " 1,\n",
       " 1,\n",
       " 1,\n",
       " 1,\n",
       " 1,\n",
       " 2,\n",
       " 9,\n",
       " 1,\n",
       " 1,\n",
       " 6,\n",
       " 6,\n",
       " 6,\n",
       " 1,\n",
       " 1,\n",
       " 6,\n",
       " 6,\n",
       " 6,\n",
       " 6,\n",
       " 1,\n",
       " 8,\n",
       " 8,\n",
       " 8,\n",
       " 4,\n",
       " 8,\n",
       " 8,\n",
       " 8,\n",
       " 8,\n",
       " 8,\n",
       " 8,\n",
       " 4,\n",
       " 8,\n",
       " 6,\n",
       " 4,\n",
       " 8,\n",
       " 8,\n",
       " 8,\n",
       " 9,\n",
       " 8,\n",
       " 8,\n",
       " 8,\n",
       " 9,\n",
       " 4,\n",
       " 4,\n",
       " 8,\n",
       " 8,\n",
       " 4,\n",
       " 8,\n",
       " 4,\n",
       " 8,\n",
       " 6,\n",
       " 1,\n",
       " 1,\n",
       " 1,\n",
       " 1,\n",
       " 6,\n",
       " 4,\n",
       " 6,\n",
       " 1,\n",
       " 4,\n",
       " 1,\n",
       " 6,\n",
       " 6,\n",
       " 6,\n",
       " 1,\n",
       " 6,\n",
       " 6,\n",
       " 1,\n",
       " 6,\n",
       " 6,\n",
       " 6,\n",
       " 6,\n",
       " 1,\n",
       " 6,\n",
       " 6,\n",
       " 6,\n",
       " 2,\n",
       " 6,\n",
       " 6,\n",
       " 2]"
      ]
     },
     "execution_count": 173,
     "metadata": {},
     "output_type": "execute_result"
    }
   ],
   "source": [
    "classes"
   ]
  },
  {
   "cell_type": "code",
   "execution_count": 164,
   "metadata": {},
   "outputs": [],
   "source": [
    "def confus(data,labels):\n",
    "    confusion = np.zeros(100).reshape(10,10)\n",
    "    for cluster, label in zip(data,labels):\n",
    "        confusion[cluster, label] += 1\n",
    "    return np.array(confusion)"
   ]
  },
  {
   "cell_type": "code",
   "execution_count": 169,
   "metadata": {},
   "outputs": [],
   "source": [
    "con = confus(classes, small_labels)"
   ]
  },
  {
   "cell_type": "code",
   "execution_count": 170,
   "metadata": {},
   "outputs": [],
   "source": [
    "df = pd.DataFrame(data=con)"
   ]
  },
  {
   "cell_type": "code",
   "execution_count": 171,
   "metadata": {},
   "outputs": [
    {
     "data": {
      "text/html": [
       "<div>\n",
       "<style scoped>\n",
       "    .dataframe tbody tr th:only-of-type {\n",
       "        vertical-align: middle;\n",
       "    }\n",
       "\n",
       "    .dataframe tbody tr th {\n",
       "        vertical-align: top;\n",
       "    }\n",
       "\n",
       "    .dataframe thead th {\n",
       "        text-align: right;\n",
       "    }\n",
       "</style>\n",
       "<table border=\"1\" class=\"dataframe\">\n",
       "  <thead>\n",
       "    <tr style=\"text-align: right;\">\n",
       "      <th></th>\n",
       "      <th>0</th>\n",
       "      <th>1</th>\n",
       "      <th>2</th>\n",
       "      <th>3</th>\n",
       "      <th>4</th>\n",
       "      <th>5</th>\n",
       "      <th>6</th>\n",
       "      <th>7</th>\n",
       "      <th>8</th>\n",
       "      <th>9</th>\n",
       "    </tr>\n",
       "  </thead>\n",
       "  <tbody>\n",
       "    <tr>\n",
       "      <th>0</th>\n",
       "      <td>2.0</td>\n",
       "      <td>0.0</td>\n",
       "      <td>8.0</td>\n",
       "      <td>0.0</td>\n",
       "      <td>1.0</td>\n",
       "      <td>1.0</td>\n",
       "      <td>27.0</td>\n",
       "      <td>0.0</td>\n",
       "      <td>0.0</td>\n",
       "      <td>0.0</td>\n",
       "    </tr>\n",
       "    <tr>\n",
       "      <th>1</th>\n",
       "      <td>0.0</td>\n",
       "      <td>0.0</td>\n",
       "      <td>0.0</td>\n",
       "      <td>0.0</td>\n",
       "      <td>12.0</td>\n",
       "      <td>0.0</td>\n",
       "      <td>0.0</td>\n",
       "      <td>15.0</td>\n",
       "      <td>0.0</td>\n",
       "      <td>9.0</td>\n",
       "    </tr>\n",
       "    <tr>\n",
       "      <th>2</th>\n",
       "      <td>0.0</td>\n",
       "      <td>0.0</td>\n",
       "      <td>9.0</td>\n",
       "      <td>1.0</td>\n",
       "      <td>5.0</td>\n",
       "      <td>0.0</td>\n",
       "      <td>0.0</td>\n",
       "      <td>1.0</td>\n",
       "      <td>0.0</td>\n",
       "      <td>2.0</td>\n",
       "    </tr>\n",
       "    <tr>\n",
       "      <th>3</th>\n",
       "      <td>0.0</td>\n",
       "      <td>1.0</td>\n",
       "      <td>2.0</td>\n",
       "      <td>0.0</td>\n",
       "      <td>0.0</td>\n",
       "      <td>15.0</td>\n",
       "      <td>1.0</td>\n",
       "      <td>0.0</td>\n",
       "      <td>0.0</td>\n",
       "      <td>0.0</td>\n",
       "    </tr>\n",
       "    <tr>\n",
       "      <th>4</th>\n",
       "      <td>4.0</td>\n",
       "      <td>1.0</td>\n",
       "      <td>4.0</td>\n",
       "      <td>13.0</td>\n",
       "      <td>0.0</td>\n",
       "      <td>9.0</td>\n",
       "      <td>1.0</td>\n",
       "      <td>0.0</td>\n",
       "      <td>7.0</td>\n",
       "      <td>2.0</td>\n",
       "    </tr>\n",
       "    <tr>\n",
       "      <th>5</th>\n",
       "      <td>13.0</td>\n",
       "      <td>0.0</td>\n",
       "      <td>0.0</td>\n",
       "      <td>0.0</td>\n",
       "      <td>0.0</td>\n",
       "      <td>1.0</td>\n",
       "      <td>0.0</td>\n",
       "      <td>0.0</td>\n",
       "      <td>0.0</td>\n",
       "      <td>0.0</td>\n",
       "    </tr>\n",
       "    <tr>\n",
       "      <th>6</th>\n",
       "      <td>0.0</td>\n",
       "      <td>0.0</td>\n",
       "      <td>0.0</td>\n",
       "      <td>0.0</td>\n",
       "      <td>10.0</td>\n",
       "      <td>0.0</td>\n",
       "      <td>0.0</td>\n",
       "      <td>13.0</td>\n",
       "      <td>1.0</td>\n",
       "      <td>17.0</td>\n",
       "    </tr>\n",
       "    <tr>\n",
       "      <th>7</th>\n",
       "      <td>11.0</td>\n",
       "      <td>0.0</td>\n",
       "      <td>4.0</td>\n",
       "      <td>16.0</td>\n",
       "      <td>0.0</td>\n",
       "      <td>2.0</td>\n",
       "      <td>0.0</td>\n",
       "      <td>0.0</td>\n",
       "      <td>0.0</td>\n",
       "      <td>0.0</td>\n",
       "    </tr>\n",
       "    <tr>\n",
       "      <th>8</th>\n",
       "      <td>0.0</td>\n",
       "      <td>0.0</td>\n",
       "      <td>0.0</td>\n",
       "      <td>0.0</td>\n",
       "      <td>0.0</td>\n",
       "      <td>1.0</td>\n",
       "      <td>0.0</td>\n",
       "      <td>0.0</td>\n",
       "      <td>20.0</td>\n",
       "      <td>0.0</td>\n",
       "    </tr>\n",
       "    <tr>\n",
       "      <th>9</th>\n",
       "      <td>0.0</td>\n",
       "      <td>28.0</td>\n",
       "      <td>3.0</td>\n",
       "      <td>0.0</td>\n",
       "      <td>2.0</td>\n",
       "      <td>1.0</td>\n",
       "      <td>1.0</td>\n",
       "      <td>1.0</td>\n",
       "      <td>2.0</td>\n",
       "      <td>0.0</td>\n",
       "    </tr>\n",
       "  </tbody>\n",
       "</table>\n",
       "</div>"
      ],
      "text/plain": [
       "      0     1    2     3     4     5     6     7     8     9\n",
       "0   2.0   0.0  8.0   0.0   1.0   1.0  27.0   0.0   0.0   0.0\n",
       "1   0.0   0.0  0.0   0.0  12.0   0.0   0.0  15.0   0.0   9.0\n",
       "2   0.0   0.0  9.0   1.0   5.0   0.0   0.0   1.0   0.0   2.0\n",
       "3   0.0   1.0  2.0   0.0   0.0  15.0   1.0   0.0   0.0   0.0\n",
       "4   4.0   1.0  4.0  13.0   0.0   9.0   1.0   0.0   7.0   2.0\n",
       "5  13.0   0.0  0.0   0.0   0.0   1.0   0.0   0.0   0.0   0.0\n",
       "6   0.0   0.0  0.0   0.0  10.0   0.0   0.0  13.0   1.0  17.0\n",
       "7  11.0   0.0  4.0  16.0   0.0   2.0   0.0   0.0   0.0   0.0\n",
       "8   0.0   0.0  0.0   0.0   0.0   1.0   0.0   0.0  20.0   0.0\n",
       "9   0.0  28.0  3.0   0.0   2.0   1.0   1.0   1.0   2.0   0.0"
      ]
     },
     "execution_count": 171,
     "metadata": {},
     "output_type": "execute_result"
    }
   ],
   "source": [
    "df"
   ]
  },
  {
   "cell_type": "code",
   "execution_count": 172,
   "metadata": {},
   "outputs": [
    {
     "data": {
      "image/png": "[encoded data removed]",
      "text/plain": [
       "<Figure size 640x480 with 2 Axes>"
      ]
     },
     "metadata": {},
     "output_type": "display_data"
    }
   ],
   "source": [
    "con = confus(classes, small_labels)\n",
    "df = pd.DataFrame(data=con)\n",
    "ax = sns.heatmap(df)"
   ]
  },
  {
   "cell_type": "code",
   "execution_count": null,
   "metadata": {},
   "outputs": [],
   "source": []
  }
 ],
 "metadata": {
  "kernelspec": {
   "display_name": "Python 3",
   "language": "python",
   "name": "python3"
  },
  "language_info": {
   "codemirror_mode": {
    "name": "ipython",
    "version": 3
   },
   "file_extension": ".py",
   "mimetype": "text/x-python",
   "name": "python",
   "nbconvert_exporter": "python",
   "pygments_lexer": "ipython3",
   "version": "3.8.4"
  }
 },
 "nbformat": 4,
 "nbformat_minor": 4
}
