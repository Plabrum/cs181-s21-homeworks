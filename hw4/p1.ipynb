{
 "cells": [
  {
   "cell_type": "code",
   "execution_count": 34,
   "metadata": {},
   "outputs": [],
   "source": [
    "xy = [(-3,+1),(-2,+1),(-1,-1),(0,+1),(1,-1),(2,+1),(3,+1)]\n",
    "x = np.array(list(map(lambda fst: fst[0], xy)))\n",
    "y = np.array(list(map(lambda fst: fst[1], xy)))"
   ]
  },
  {
   "cell_type": "code",
   "execution_count": 35,
   "metadata": {},
   "outputs": [],
   "source": [
    "def phi(x):\n",
    "    return (-8/3)*(x**2) + (2/3)*(x**4)"
   ]
  },
  {
   "cell_type": "code",
   "execution_count": 36,
   "metadata": {},
   "outputs": [
    {
     "data": {
      "text/plain": [
       "array([30.,  0., -2.,  0., -2.,  0., 30.])"
      ]
     },
     "execution_count": 36,
     "metadata": {},
     "output_type": "execute_result"
    }
   ],
   "source": [
    "x_trans = np.array(list(map(phi, x)))\n",
    "x_trans"
   ]
  },
  {
   "cell_type": "code",
   "execution_count": 37,
   "metadata": {},
   "outputs": [
    {
     "data": {
      "text/plain": [
       "array([[297.,  -2., -21.,   0., -19.,   2., 303.]])"
      ]
     },
     "execution_count": 37,
     "metadata": {},
     "output_type": "execute_result"
    }
   ],
   "source": [
    "w = np.array([[1],[10]])\n",
    "phi = np.array([x, x_trans])\n",
    "\n",
    "np.dot(w.T, phi)"
   ]
  },
  {
   "cell_type": "code",
   "execution_count": 4,
   "metadata": {},
   "outputs": [],
   "source": [
    "import matplotlib.pyplot as plt\n",
    "import numpy as np"
   ]
  },
  {
   "cell_type": "code",
   "execution_count": 13,
   "metadata": {},
   "outputs": [],
   "source": [
    "import seaborn as sns\n",
    "sns.set_theme(style=\"whitegrid\")"
   ]
  },
  {
   "cell_type": "code",
   "execution_count": 38,
   "metadata": {},
   "outputs": [
    {
     "data": {
      "image/png": "[encoded data removed]",
      "text/plain": [
       "<Figure size 432x288 with 1 Axes>"
      ]
     },
     "metadata": {},
     "output_type": "display_data"
    }
   ],
   "source": [
    "fig, ax = plt.subplots()\n",
    "color_dict = {1:'b', -1: 'r'}\n",
    "lab_dict = {1:\"Y = 1\", -1: \"Y = -1\"}\n",
    "def swapfor(mapping, ls2):\n",
    "    return [mapping[el2]for el2 in ls2]\n",
    "\n",
    "for g in np.unique(y):\n",
    "    i = np.where(y == g)\n",
    "    ax.scatter(x[i], x_trans[i], c=color_dict[g], label=lab_dict[g])\n",
    "\n",
    "\n",
    "linex = np.linspace(-3, 3, 100)\n",
    "liney = np.ones(len(linex))*-1\n",
    "ax.plot(linex, liney, label=r\"$\\Phi(x) = 1$\");\n",
    "ax.legend()\n",
    "ax.set_ylabel(r'$\\Phi(x)$', fontsize=15)\n",
    "ax.set_xlabel(r'$x$', fontsize=15)\n",
    "ax.set_title('Transformed data', fontsize=20)\n",
    "\n",
    "plt.show()"
   ]
  },
  {
   "cell_type": "code",
   "execution_count": null,
   "metadata": {},
   "outputs": [],
   "source": []
  }
 ],
 "metadata": {
  "kernelspec": {
   "display_name": "Python 3",
   "language": "python",
   "name": "python3"
  },
  "language_info": {
   "codemirror_mode": {
    "name": "ipython",
    "version": 3
   },
   "file_extension": ".py",
   "mimetype": "text/x-python",
   "name": "python",
   "nbconvert_exporter": "python",
   "pygments_lexer": "ipython3",
   "version": "3.8.4"
  }
 },
 "nbformat": 4,
 "nbformat_minor": 4
}
