{
 "cells": [
  {
   "cell_type": "code",
   "execution_count": 1,
   "metadata": {},
   "outputs": [],
   "source": [
    "import matplotlib.pyplot as plt\n",
    "import numpy as np\n",
    "import seaborn as sns\n",
    "sns.set_style(style=\"whitegrid\")"
   ]
  },
  {
   "cell_type": "code",
   "execution_count": 21,
   "metadata": {
    "slideshow": {
     "slide_type": "slide"
    }
   },
   "outputs": [],
   "source": [
    "xy = [(-3,+1),(-2,+1),(-1,-1),(0,+1),(1,-1),(2,+1),(3,+1)]\n",
    "x = np.array(list(map(lambda fst: fst[0], xy)))\n",
    "y = np.array(list(map(lambda fst: fst[1], xy)))"
   ]
  },
  {
   "cell_type": "code",
   "execution_count": 22,
   "metadata": {
    "slideshow": {
     "slide_type": "subslide"
    }
   },
   "outputs": [],
   "source": [
    "def phi(x):\n",
    "    return (-8/3)*(x**2) + (2/3)*(x**4)\n",
    "x_trans = np.array(list(map(phi, x)))"
   ]
  },
  {
   "cell_type": "code",
   "execution_count": 23,
   "metadata": {},
   "outputs": [
    {
     "data": {
      "image/png": "[encoded data removed]",
      "text/plain": [
       "<Figure size 432x288 with 1 Axes>"
      ]
     },
     "metadata": {},
     "output_type": "display_data"
    }
   ],
   "source": [
    "w = np.array([[1],[10]])\n",
    "phi = np.array([x, x_trans])\n",
    "\n",
    "np.dot(w.T, phi)\n",
    "\n",
    "fig, ax = plt.subplots()\n",
    "color_dict = {1:'b', -1: 'r'}\n",
    "lab_dict = {1:\"Y = 1\", -1: \"Y = -1\"}\n",
    "def swapfor(mapping, ls2):\n",
    "    return [mapping[el2]for el2 in ls2]\n",
    "\n",
    "for g in np.unique(y):\n",
    "    i = np.where(y == g)\n",
    "    ax.scatter(x[i], x_trans[i], c=color_dict[g], label=lab_dict[g])\n",
    "\n",
    "\n",
    "linex = np.linspace(-3, 3, 100)\n",
    "liney = np.ones(len(linex))*-1\n",
    "ax.plot(linex, liney, label=r\"$\\Phi(x) = -1$\");\n",
    "ax.legend()\n",
    "ax.set_ylabel(r'$\\Phi(x)$', fontsize=15)\n",
    "ax.set_xlabel(r'$x$', fontsize=15)\n",
    "ax.set_title('Transformed data', fontsize=20)\n",
    "\n",
    "plt.show()"
   ]
  },
  {
   "cell_type": "code",
   "execution_count": 7,
   "metadata": {},
   "outputs": [],
   "source": [
    "# pics = np.load(\"data/images.npy\", allow_pickle=False)\n",
    "small_dataset = np.load(\"data/small_dataset.npy\")\n",
    "# small_labels = np.load(\"data/small_dataset_labels.npy\").astype(int)\n",
    "large_dataset = np.load(\"data/large_dataset.npy\")\n",
    "test_data = np.load(\"P2_Autograder_Data.npy\")"
   ]
  },
  {
   "cell_type": "code",
   "execution_count": 14,
   "metadata": {},
   "outputs": [],
   "source": [
    "def disp(array):\n",
    "    plt.figure()\n",
    "    plt.imshow(array.reshape(28,28), cmap='Greys_r')\n",
    "    plt.show()"
   ]
  },
  {
   "cell_type": "code",
   "execution_count": 18,
   "metadata": {},
   "outputs": [],
   "source": [
    "class KMeans(object):\n",
    "    # K is the K in KMeans\n",
    "    def __init__(self, K):\n",
    "        self.K = K\n",
    "    \n",
    "    def __make_one_hot(self, array):\n",
    "        one_hot = np.zeros(array.shape)\n",
    "        min_pos = np.array([np.argmin(row) for row in array])\n",
    "        one_hot[np.arange(array.shape[0]), min_pos] = 1\n",
    "        return one_hot \n",
    "\n",
    "    def __distance(self, p1, p2):\n",
    "        # calulate the l2 distance between points, i.e. euclidean\n",
    "        # each is a 1xD matrix\n",
    "        return sum(pow(p1-p2, 2))\n",
    "       \n",
    "    # X is a (N x 28 x 28) array where 28x28 is the dimensions of each of the N images.\n",
    "    def fit(self, X):\n",
    "        # 1 Find the cluster centers (cluster mean)\n",
    "        def cluster_mean(resp, data):\n",
    "            # for each datapoint in cluster c,\n",
    "            # sum it's vals and divide by number in class\n",
    "            class_sums = np.zeros((resp.shape[1], data.shape[1]))\n",
    "            for point, res in zip(data, resp):\n",
    "                class_sums[np.argmax(res)] += point\n",
    "            # count up the number of datapoints in each class    \n",
    "            class_counts = np.sum(resp, axis=0)\n",
    "            \n",
    "            # class_mean = np.divide(class_sums, class_counts)\n",
    "            class_mean = []\n",
    "            for class_sum, class_count in zip(class_sums, class_counts):\n",
    "                class_mean.append(np.divide(class_sum, class_count))\n",
    "                \n",
    "            class_mean = np.array(class_mean)\n",
    "            return class_mean \n",
    "\n",
    "        # 2 adjust reponsibility vectors\n",
    "        def adjust_resp(mu, data):\n",
    "            # resp dims: NxC\n",
    "            # mu dims:\n",
    "            positions = []\n",
    "            for point in data:\n",
    "                distances = []\n",
    "                for class_mean in mu:\n",
    "                    distances.append(self.__distance(class_mean, point))\n",
    "                one_ht = np.zeros(mu.shape[0])\n",
    "                one_ht[np.argmin(distances)] = 1\n",
    "                positions.append(one_ht)\n",
    "                \n",
    "            return np.array(positions)\n",
    "\n",
    "        # 3 calculate the loss\n",
    "        def loss_func(data, mu, resp):\n",
    "            loss_list = []\n",
    "            # Loop through each datapoint in the dataset\n",
    "            for datapoint, res in zip(data, resp):\n",
    "                cluster = np.argmax(res)\n",
    "                loss_list.append(self.__distance(datapoint, mu[cluster]))\n",
    "            return sum(loss_list)\n",
    "\n",
    "        # initialisation of cluster asignment i.e. responsibility vectors\n",
    "        self.resp = self.__make_one_hot(np.random.randn(X.shape[0], self.K))\n",
    "        # Set inital mu\n",
    "        self.mu = np.random.randn(self.K, X.shape[1])\n",
    "        self.loss_list = []\n",
    "\n",
    "        # record the losses at each epoch\n",
    "        converge = False\n",
    "        epoch = 0\n",
    "        while not converge:\n",
    "            # 1 calc the mean of the clusters\n",
    "            self.mu = cluster_mean(self.resp, X)\n",
    "            \n",
    "            # 2 Calc the loss\n",
    "            current_loss = loss_func(X, self.mu, self.resp)\n",
    "\n",
    "            # 3 adjust the responsibility vectors\n",
    "            new_resp = adjust_resp(self.mu, X)\n",
    "            if np.array_equal(new_resp, self.resp):\n",
    "                converge = True\n",
    "            self.resp = new_resp\n",
    "            epoch += 1\n",
    "            self.loss_list.append(current_loss)\n",
    "#             print(\"Epoch:\", epoch)\n",
    "\n",
    "    # This should return the arrays for K images. Each image should represent the mean of each of the fitted clusters.\n",
    "    def get_mean_images(self):\n",
    "        return self.mu"
   ]
  },
  {
   "cell_type": "code",
   "execution_count": null,
   "metadata": {},
   "outputs": [],
   "source": [
    "KMeansClassifier = KMeans(K=10)\n",
    "KMeansClassifier.fit(large_dataset)"
   ]
  },
  {
   "cell_type": "code",
   "execution_count": null,
   "metadata": {},
   "outputs": [],
   "source": [
    "fig, ax = plt.subplots()\n",
    "ax.plot(np.array(KMeansClassifier.loss_list));\n",
    "ax.set_ylabel('Loss', fontsize=15)\n",
    "ax.set_xlabel('Iterations', fontsize=15)\n",
    "ax.set_title('K-means objective function', fontsize=20)\n",
    "plt.show()"
   ]
  },
  {
   "cell_type": "code",
   "execution_count": null,
   "metadata": {},
   "outputs": [],
   "source": [
    "for cls in KMeansClassifier.mu:\n",
    "    disp(cls)"
   ]
  },
  {
   "cell_type": "markdown",
   "metadata": {},
   "source": [
    "Run K-means for 5 different restarts for different values of K = 5,10,20. Make a plot of the final K-means objective value after your algorithm converges (y-axis) v. the values of K (x-axis), with each data point having an error bar. To compute these error bars, you will use the 5 final objective values from the restarts for |each K to calculate a standard deviation for each K.\n",
    "How does the final value of the objective function and its standard deviation change with K? (Note: Our code takes 10 minutes to run for this part.)"
   ]
  },
  {
   "cell_type": "code",
   "execution_count": 3,
   "metadata": {},
   "outputs": [],
   "source": [
    "save_kmcs = []"
   ]
  },
  {
   "cell_type": "code",
   "execution_count": 19,
   "metadata": {},
   "outputs": [
    {
     "name": "stdout",
     "output_type": "stream",
     "text": [
      "Converged1!\n",
      "Converged1!\n",
      "Converged1!\n",
      "Converged1!\n",
      "Converged1!\n",
      "Converged1!\n",
      "Converged1!\n",
      "Converged1!\n",
      "Converged1!\n",
      "Converged1!\n",
      "Converged1!\n",
      "Converged1!\n",
      "Converged1!\n",
      "Converged1!\n",
      "Converged1!\n"
     ]
    }
   ],
   "source": [
    "for k in [5,10,20]:\n",
    "    for restart in range(5):\n",
    "        KMC = KMeans(K=k)\n",
    "        KMC.fit(large_dataset)\n",
    "        save_kmcs.append(KMC)\n",
    "        print(\"Converged1!\")"
   ]
  },
  {
   "cell_type": "code",
   "execution_count": null,
   "metadata": {},
   "outputs": [],
   "source": []
  },
  {
   "cell_type": "code",
   "execution_count": 48,
   "metadata": {},
   "outputs": [],
   "source": [
    "fllossls = []\n",
    "\n",
    "for kmc in save_kmcs:\n",
    "    fllossls.append(kmc.loss_list[-1])\n"
   ]
  },
  {
   "cell_type": "code",
   "execution_count": 51,
   "metadata": {},
   "outputs": [],
   "source": [
    "lossls = fllossls[5:]"
   ]
  },
  {
   "cell_type": "code",
   "execution_count": 53,
   "metadata": {},
   "outputs": [
    {
     "data": {
      "text/plain": [
       "array([[1.42410798e+10, 1.40577714e+10, 1.40582114e+10, 1.40577433e+10,\n",
       "        1.42416824e+10],\n",
       "       [1.26501354e+10, 1.26915306e+10, 1.27962506e+10, 1.27684901e+10,\n",
       "        1.26502263e+10],\n",
       "       [1.12772526e+10, 1.13477094e+10, 1.12914389e+10, 1.12193198e+10,\n",
       "        1.13084271e+10]])"
      ]
     },
     "execution_count": 53,
     "metadata": {},
     "output_type": "execute_result"
    }
   ],
   "source": []
  },
  {
   "cell_type": "code",
   "execution_count": 62,
   "metadata": {},
   "outputs": [
    {
     "data": {
      "image/png": "[encoded data removed]",
      "text/plain": [
       "<Figure size 576x432 with 1 Axes>"
      ]
     },
     "metadata": {},
     "output_type": "display_data"
    }
   ],
   "source": [
    "fig, ax = plt.subplots(figsize=(8, 6))\n",
    "\n",
    "los = np.array(lossls).reshape(3,5)\n",
    "klis = [5,10,20]\n",
    "\n",
    "for num,ls in enumerate(los):\n",
    "    x = klis[num]\n",
    "    stdev = np.std(ls)\n",
    "    for y in ls:\n",
    "        ax.scatter(x, y, color='b', marker=\"x\")\n",
    "        plt.errorbar(x, y, yerr=stdev, color='b', marker=\"x\")\n",
    "    \n",
    "ax.set_ylabel('Loss', fontsize=15)\n",
    "ax.set_xlabel('Iterations', fontsize=15)\n",
    "ax.set_title('K-means objective value for K=5,10,20', fontsize=20)\n",
    "plt.show()"
   ]
  },
  {
   "cell_type": "code",
   "execution_count": null,
   "metadata": {},
   "outputs": [],
   "source": []
  },
  {
   "cell_type": "code",
   "execution_count": 41,
   "metadata": {},
   "outputs": [],
   "source": [
    "import pickle\n",
    "with open('plswrk3.pkl', 'wb') as f:\n",
    "    pickle.dump([save.mu for save in save_kmcs], f)"
   ]
  },
  {
   "cell_type": "code",
   "execution_count": 33,
   "metadata": {},
   "outputs": [],
   "source": [
    "with open('plswrk.pkl', 'rb') as f:\n",
    "    mynewlist = pickle.load(f)"
   ]
  },
  {
   "cell_type": "markdown",
   "metadata": {},
   "source": [
    "For K = 10 and for 3 random restarts, show the mean image (aka the centroid) for each cluster. To render an image, use the pyplot imshow function. There should be 30 total images. Include all of these images as part of a single plot; your plot must fit on one page."
   ]
  },
  {
   "cell_type": "code",
   "execution_count": null,
   "metadata": {},
   "outputs": [],
   "source": [
    "w=10\n",
    "h=10\n",
    "fig=plt.figure(figsize=(8, 8))\n",
    "columns = 3\n",
    "rows = 10\n",
    "for i in range(1, columns*rows +1):\n",
    "    img = np.random.randint(10, size=(h,w))\n",
    "    fig.add_subplot(rows, columns, i)\n",
    "    plt.imshow(imgs.reshape(28,28), cmap='Greys_r')\n",
    "plt.show()"
   ]
  }
 ],
 "metadata": {
  "kernelspec": {
   "display_name": "Python 3",
   "language": "python",
   "name": "python3"
  },
  "language_info": {
   "codemirror_mode": {
    "name": "ipython",
    "version": 3
   },
   "file_extension": ".py",
   "mimetype": "text/x-python",
   "name": "python",
   "nbconvert_exporter": "python",
   "pygments_lexer": "ipython3",
   "version": "3.8.4"
  }
 },
 "nbformat": 4,
 "nbformat_minor": 4
}
