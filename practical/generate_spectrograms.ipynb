{
 "cells": [
  {
   "cell_type": "code",
   "execution_count": 1,
   "metadata": {},
   "outputs": [],
   "source": [
    "import numpy as np\n",
    "import librosa"
   ]
  },
  {
   "cell_type": "code",
   "execution_count": 2,
   "metadata": {},
   "outputs": [],
   "source": [
    "def make_spec(amp_i):\n",
    "    mel_i = librosa.feature.melspectrogram(y=amp_i, sr=22050)\n",
    "    assert mel_i.shape == (128,87)\n",
    "    mel_i = mel_i.reshape(1,mel_i.shape[0],mel_i.shape[1])\n",
    "    return mel_i\n",
    "\n",
    "def amps_to_specs(fold='train'):\n",
    "    amps = np.load('X{}_amp.npy'.format(fold))\n",
    "    ys = np.load('y{}_amp.npy'.format(fold))\n",
    "    mels = [make_spec(amp) for amp in amps]\n",
    "    del amps # save memory\n",
    "    mels = np.concatenate(mels,axis=0)\n",
    "    np.save('X{}_mel.npy'.format(fold),mels)\n",
    "    np.save('y{}_mel.npy'.format(fold),ys)\n",
    "    del mels # save memory"
   ]
  },
  {
   "cell_type": "code",
   "execution_count": null,
   "metadata": {},
   "outputs": [],
   "source": [
    "amps_to_specs('train')\n",
    "amps_to_specs('test')"
   ]
  },
  {
   "cell_type": "code",
   "execution_count": 4,
   "metadata": {},
   "outputs": [],
   "source": [
    "X_test = np.load(\"data/Xtest_amp.npy\")"
   ]
  },
  {
   "cell_type": "code",
   "execution_count": 8,
   "metadata": {},
   "outputs": [],
   "source": [
    "def make_mfcc(amp_i):\n",
    "    mel_i = librosa.feature.mfcc(y=amp_i, sr=22050)\n",
    "#     assert mel_i.shape == (128,87)\n",
    "    mel_i = mel_i.reshape(1,mel_i.shape[0],mel_i.shape[1])\n",
    "    return mel_i\n",
    "\n",
    "def amps_to_mfcc(fold='train'):\n",
    "    amps = np.load('data/X{}_amp.npy'.format(fold))\n",
    "    ys = np.load('data/y{}_amp.npy'.format(fold))\n",
    "    mels = [make_mfcc(amp) for amp in amps]\n",
    "    del amps # save memory\n",
    "    mels = np.concatenate(mels,axis=0)\n",
    "    np.save('data/X{}_mfcc.npy'.format(fold),mels)\n",
    "    np.save('data/y{}_mfcc.npy'.format(fold),ys)\n",
    "    del mels # save memory"
   ]
  },
  {
   "cell_type": "code",
   "execution_count": 9,
   "metadata": {},
   "outputs": [],
   "source": [
    "amps_to_mfcc('train')\n",
    "amps_to_mfcc('test')"
   ]
  },
  {
   "cell_type": "code",
   "execution_count": null,
   "metadata": {},
   "outputs": [],
   "source": []
  }
 ],
 "metadata": {
  "kernelspec": {
   "display_name": "Python 3",
   "language": "python",
   "name": "python3"
  },
  "language_info": {
   "codemirror_mode": {
    "name": "ipython",
    "version": 3
   },
   "file_extension": ".py",
   "mimetype": "text/x-python",
   "name": "python",
   "nbconvert_exporter": "python",
   "pygments_lexer": "ipython3",
   "version": "3.8.4"
  }
 },
 "nbformat": 4,
 "nbformat_minor": 5
}
