{
 "cells": [
  {
   "cell_type": "markdown",
   "metadata": {},
   "source": [
    "This Jupyter notebook loads the raw amplitude and Mel spectrogram data files as numpy arrays.\n",
    "\n",
    "Download the data files [here](https://console.cloud.google.com/storage/browser/cs181_practical_data).  This notebook assumes that the data files as located in the same directory."
   ]
  },
  {
   "cell_type": "code",
   "execution_count": 3,
   "metadata": {},
   "outputs": [],
   "source": [
    "import numpy as np\n",
    "import matplotlib.pyplot as plt\n",
    "import pandas as pd\n"
   ]
  },
  {
   "cell_type": "markdown",
   "metadata": {},
   "source": [
    "### Load raw amplitude data."
   ]
  },
  {
   "cell_type": "code",
   "execution_count": 4,
   "metadata": {},
   "outputs": [],
   "source": [
    "# Load train data\n",
    "\n",
    "X_amp_train = np.load(\"data/Xtrain_amp.npy\")\n",
    "y_amp_train = np.load(\"data/ytrain_amp.npy\")"
   ]
  },
  {
   "cell_type": "code",
   "execution_count": 13,
   "metadata": {},
   "outputs": [
    {
     "data": {
      "text/plain": [
       "(5553, 44100)"
      ]
     },
     "execution_count": 13,
     "metadata": {},
     "output_type": "execute_result"
    }
   ],
   "source": [
    "X_amp_train.shape"
   ]
  },
  {
   "cell_type": "code",
   "execution_count": 5,
   "metadata": {},
   "outputs": [],
   "source": [
    "# Load test data\n",
    "\n",
    "X_amp_test = np.load(\"data/Xtest_amp.npy\")\n",
    "y_amp_test = np.load(\"data/ytest_amp.npy\")"
   ]
  },
  {
   "cell_type": "code",
   "execution_count": 15,
   "metadata": {},
   "outputs": [
    {
     "data": {
      "text/plain": [
       "(2197, 44100)"
      ]
     },
     "execution_count": 15,
     "metadata": {},
     "output_type": "execute_result"
    }
   ],
   "source": [
    "X_amp_test.shape"
   ]
  },
  {
   "cell_type": "markdown",
   "metadata": {},
   "source": [
    "### Load Mel spectrogram data."
   ]
  },
  {
   "cell_type": "code",
   "execution_count": 6,
   "metadata": {},
   "outputs": [],
   "source": [
    "# Load train data\n",
    "\n",
    "X_mel_train = np.load(\"data/Xtrain_mel.npy\")\n",
    "y_mel_train = np.load(\"data/ytrain_mel.npy\")"
   ]
  },
  {
   "cell_type": "code",
   "execution_count": 17,
   "metadata": {},
   "outputs": [
    {
     "data": {
      "text/plain": [
       "(5553, 128, 87)"
      ]
     },
     "execution_count": 17,
     "metadata": {},
     "output_type": "execute_result"
    }
   ],
   "source": [
    "X_mel_train.shape"
   ]
  },
  {
   "cell_type": "code",
   "execution_count": 18,
   "metadata": {},
   "outputs": [
    {
     "data": {
      "text/plain": [
       "(5553, 11136)"
      ]
     },
     "execution_count": 18,
     "metadata": {},
     "output_type": "execute_result"
    }
   ],
   "source": [
    "# Flatten X_mel_train's spectrogram features\n",
    "X_mel_train_flat = X_mel_train.reshape(X_mel_train.shape[0], -1)\n",
    "X_mel_train_flat.shape"
   ]
  },
  {
   "cell_type": "code",
   "execution_count": 7,
   "metadata": {},
   "outputs": [],
   "source": [
    "# Load test data\n",
    "\n",
    "X_mel_test = np.load(\"data/Xtest_mel.npy\")\n",
    "y_mel_test = np.load(\"data/ytest_mel.npy\")"
   ]
  },
  {
   "cell_type": "code",
   "execution_count": 6,
   "metadata": {},
   "outputs": [
    {
     "data": {
      "text/plain": [
       "array([[1.7437781e-01, 8.2188599e-02, 6.0837075e-02, ..., 9.1910191e-02,\n",
       "        9.4967283e-02, 1.9559012e-01],\n",
       "       [7.0797458e-02, 1.7632801e-02, 2.6656395e-05, ..., 2.0950911e-05,\n",
       "        6.2276116e-03, 3.6030050e-02],\n",
       "       [7.4844457e-02, 2.7433863e-02, 2.4397497e-03, ..., 1.3756391e-03,\n",
       "        4.9841995e-03, 1.4264228e-02],\n",
       "       ...,\n",
       "       [5.3774829e-06, 1.3443675e-06, 3.0903109e-14, ..., 4.1203250e-14,\n",
       "        1.5509233e-05, 9.5885647e-05],\n",
       "       [5.2936280e-06, 1.3234036e-06, 1.9879338e-14, ..., 3.6426923e-14,\n",
       "        1.5248110e-05, 9.4271250e-05],\n",
       "       [5.2392279e-06, 1.3098039e-06, 1.9155037e-14, ..., 5.0148362e-14,\n",
       "        1.5080436e-05, 9.3234616e-05]], dtype=float32)"
      ]
     },
     "execution_count": 6,
     "metadata": {},
     "output_type": "execute_result"
    }
   ],
   "source": [
    "X_mel_test[0]"
   ]
  },
  {
   "cell_type": "code",
   "execution_count": null,
   "metadata": {},
   "outputs": [],
   "source": []
  },
  {
   "cell_type": "code",
   "execution_count": 13,
   "metadata": {},
   "outputs": [
    {
     "data": {
      "text/plain": [
       "[<matplotlib.lines.Line2D at 0x184932e50>]"
      ]
     },
     "execution_count": 13,
     "metadata": {},
     "output_type": "execute_result"
    },
    {
     "data": {
      "image/png": "[encoded data removed]",
      "text/plain": [
       "<Figure size 432x288 with 1 Axes>"
      ]
     },
     "metadata": {
      "needs_background": "light"
     },
     "output_type": "display_data"
    }
   ],
   "source": [
    "plt.plot(X_amp_train[1])"
   ]
  },
  {
   "cell_type": "markdown",
   "metadata": {},
   "source": [
    "## PCA and Logistic Regression"
   ]
  },
  {
   "cell_type": "code",
   "execution_count": 27,
   "metadata": {},
   "outputs": [],
   "source": [
    "class PCA(object):\n",
    "    # d is the number of principal components\n",
    "    def __init__(self, d):\n",
    "        self.d = d\n",
    "        self.data = None\n",
    "        self.mean = None\n",
    "        self.standardized = None\n",
    "        self.PCs = None\n",
    "        self.eigenvalues = None\n",
    "\n",
    "    # X is a (N x 28 x 28) array where 28x28 is the dimensions of each of the N images. This method should apply PCA to a dataset X.\n",
    "    def apply(self, X):\n",
    "        # save the data\n",
    "        self.data = X\n",
    "        # subtract the mean from the data\n",
    "        self.mean = np.mean(X, axis = 0)\n",
    "        mean_subtracted = np.subtract(X, self.mean)\n",
    "        self.standardized = np.matrix([i.flatten('C') for i in mean_subtracted]).T\n",
    "        #self.cov = 1/ self.standardized.shape[0] * np.matmul(self.standardized.T,self.standardized)\n",
    "        u, s, v = np.linalg.svd(self.standardized)\n",
    "        self.PCs = u\n",
    "        self.eigenvalues = np.square(s).T\n",
    "    "
   ]
  },
  {
   "cell_type": "code",
   "execution_count": 28,
   "metadata": {},
   "outputs": [],
   "source": [
    "pca = PCA(d = 500)\n",
    "pca.apply(X_mel_train)"
   ]
  },
  {
   "cell_type": "code",
   "execution_count": 29,
   "metadata": {},
   "outputs": [
    {
     "data": {
      "image/png": "[encoded data removed]",
      "text/plain": [
       "<Figure size 432x288 with 1 Axes>"
      ]
     },
     "metadata": {
      "needs_background": "light"
     },
     "output_type": "display_data"
    }
   ],
   "source": [
    "plt.plot(np.arange(pca.d), pca.eigenvalues[0:pca.d])\n",
    "plt.suptitle(\"First 500 Eigenvalues Plotted by Significance\")\n",
    "plt.xlabel(\"Principle Component\")\n",
    "plt.ylabel(\"Eigenvalue\")\n",
    "plt.show()"
   ]
  },
  {
   "cell_type": "code",
   "execution_count": 31,
   "metadata": {},
   "outputs": [
    {
     "data": {
      "text/plain": [
       "array([5.0056622e+09, 2.6428508e+09, 1.7959492e+09, ..., 8.9868045e-08,\n",
       "       7.5257702e-08, 5.9456099e-08], dtype=float32)"
      ]
     },
     "execution_count": 31,
     "metadata": {},
     "output_type": "execute_result"
    }
   ],
   "source": [
    "pca.eigenvalues"
   ]
  },
  {
   "cell_type": "code",
   "execution_count": 19,
   "metadata": {},
   "outputs": [
    {
     "name": "stderr",
     "output_type": "stream",
     "text": [
      "/opt/anaconda3/lib/python3.7/site-packages/ipykernel_launcher.py:2: RuntimeWarning: overflow encountered in log\n",
      "  \n"
     ]
    },
    {
     "data": {
      "image/png": "[encoded data removed]",
      "text/plain": [
       "<Figure size 432x288 with 1 Axes>"
      ]
     },
     "metadata": {
      "needs_background": "light"
     },
     "output_type": "display_data"
    }
   ],
   "source": [
    "plt.figure()\n",
    "plt.bar(np.arange(pca.d), np.log(pca.eigenvalues[0:pca.d]))\n",
    "plt.suptitle(\"First 500 Eigenvalues Plotted by Log Significance\")\n",
    "plt.xlabel(\"Principle Component\")\n",
    "plt.ylabel(\"Log Eigenvalue\")\n",
    "plt.show()"
   ]
  },
  {
   "cell_type": "code",
   "execution_count": 20,
   "metadata": {},
   "outputs": [
    {
     "data": {
      "image/png": "[encoded data removed]",
      "text/plain": [
       "<Figure size 432x288 with 1 Axes>"
      ]
     },
     "metadata": {
      "needs_background": "light"
     },
     "output_type": "display_data"
    },
    {
     "name": "stdout",
     "output_type": "stream",
     "text": [
      "Proportion variance explained by first 500 PC's: 0.9792717695236206\n",
      "Variance explained by first 500 PC's: 38119579648.0\n"
     ]
    }
   ],
   "source": [
    "explained = np.cumsum(np.divide(pca.eigenvalues,np.sum(pca.eigenvalues)))\n",
    "plt.figure()\n",
    "plt.plot(np.arange(pca.d), explained[:pca.d])\n",
    "plt.suptitle(\"Proportion Variance Explained by First 500 Eigenvectors\")\n",
    "plt.xlabel(\"Principle Component\")\n",
    "plt.ylabel(\"Proportion Variance Explained\")\n",
    "plt.show()\n",
    "\n",
    "print(\"Proportion variance explained by first 500 PC's: {}\".format(explained[499]))\n",
    "print(\"Variance explained by first 500 PC's: {}\".format(np.sum(pca.eigenvalues[:500])))"
   ]
  },
  {
   "cell_type": "code",
   "execution_count": null,
   "metadata": {},
   "outputs": [],
   "source": []
  },
  {
   "cell_type": "code",
   "execution_count": null,
   "metadata": {},
   "outputs": [],
   "source": []
  },
  {
   "cell_type": "code",
   "execution_count": null,
   "metadata": {},
   "outputs": [],
   "source": []
  },
  {
   "cell_type": "code",
   "execution_count": 10,
   "metadata": {},
   "outputs": [],
   "source": [
    "from sklearn.decomposition import PCA\n",
    "from sklearn.linear_model import LogisticRegression\n",
    "import statsmodels.api as sm\n",
    "from sklearn.metrics import accuracy_score"
   ]
  },
  {
   "cell_type": "code",
   "execution_count": null,
   "metadata": {},
   "outputs": [],
   "source": [
    "pcamel = PCA(n_components=500)\n",
    "pcamel.fit(X_mel_train)"
   ]
  },
  {
   "cell_type": "code",
   "execution_count": 44,
   "metadata": {},
   "outputs": [
    {
     "data": {
      "text/plain": [
       "PCA(n_components=500)"
      ]
     },
     "execution_count": 44,
     "metadata": {},
     "output_type": "execute_result"
    }
   ],
   "source": [
    "pca = PCA(n_components=500)\n",
    "pca.fit(X_amp_train_c)"
   ]
  },
  {
   "cell_type": "code",
   "execution_count": 40,
   "metadata": {},
   "outputs": [],
   "source": [
    "X_amp_train_c = X_amp_train/ np.sum(X_amp_train, axis =0)\n",
    "X_amp_test_c = X_amp_train/np.sum(X_amp_test, axis =0)"
   ]
  },
  {
   "cell_type": "code",
   "execution_count": 59,
   "metadata": {},
   "outputs": [
    {
     "data": {
      "text/plain": [
       "PCA(n_components=500)"
      ]
     },
     "execution_count": 59,
     "metadata": {},
     "output_type": "execute_result"
    }
   ],
   "source": [
    "pca = PCA(n_components=500)\n",
    "pca.fit(X_amp_train)"
   ]
  },
  {
   "cell_type": "code",
   "execution_count": 60,
   "metadata": {},
   "outputs": [],
   "source": [
    "#Transforming x_train and x_test \n",
    "x_train_pca = pca.transform(X_amp_train)\n",
    "x_test_pca = pca.transform(X_amp_test)\n",
    "\n",
    "#Add constant to x_train and x_test\n",
    "x_train_pca_cst = sm.add_constant(x_train_pca)\n",
    "x_test_pca_cst = sm.add_constant(x_test_pca)"
   ]
  },
  {
   "cell_type": "code",
   "execution_count": 63,
   "metadata": {},
   "outputs": [
    {
     "name": "stdout",
     "output_type": "stream",
     "text": [
      "Training Set Accuracy: 41.9412929947776%\n",
      "Testing Set Accuracy: 18.43422849340009%\n"
     ]
    },
    {
     "name": "stderr",
     "output_type": "stream",
     "text": [
      "/usr/local/lib/python3.8/site-packages/sklearn/linear_model/_logistic.py:762: ConvergenceWarning: lbfgs failed to converge (status=1):\n",
      "STOP: TOTAL NO. of ITERATIONS REACHED LIMIT.\n",
      "\n",
      "Increase the number of iterations (max_iter) or scale the data as shown in:\n",
      "    https://scikit-learn.org/stable/modules/preprocessing.html\n",
      "Please also refer to the documentation for alternative solver options:\n",
      "    https://scikit-learn.org/stable/modules/linear_model.html#logistic-regression\n",
      "  n_iter_i = _check_optimize_result(\n"
     ]
    }
   ],
   "source": [
    "#Training\n",
    "model = LogisticRegression(C=1000000).fit(x_train_pca_cst, y_amp_train)\n",
    "\n",
    "#Predict\n",
    "y_pred_train = model.predict(x_train_pca_cst)\n",
    "y_pred_test = model.predict(x_test_pca_cst)\n",
    "\n",
    "#Perfromance Evaluation\n",
    "train_score = accuracy_score(y_amp_train, y_pred_train)*100\n",
    "test_score = accuracy_score(y_amp_test, y_pred_test)*100\n",
    "\n",
    "print(\"Training Set Accuracy:\",str(train_score)+'%')\n",
    "print(\"Testing Set Accuracy:\",str(test_score)+'%')"
   ]
  },
  {
   "cell_type": "code",
   "execution_count": 41,
   "metadata": {},
   "outputs": [],
   "source": [
    "X_mel_train_reshape = np.reshape(X_mel_train, (X_mel_train.shape[0], X_mel_train.shape[1] * X_mel_train.shape[2]))\n",
    "                                 \n",
    "X_mel_test_reshape = np.reshape(X_mel_test, (X_mel_test.shape[0], X_mel_test.shape[1] * X_mel_test.shape[2]))                              "
   ]
  },
  {
   "cell_type": "code",
   "execution_count": 42,
   "metadata": {},
   "outputs": [
    {
     "data": {
      "text/plain": [
       "PCA(n_components=500)"
      ]
     },
     "execution_count": 42,
     "metadata": {},
     "output_type": "execute_result"
    }
   ],
   "source": [
    "pca = PCA(n_components=500)\n",
    "pca.fit(X_mel_train_reshape)"
   ]
  },
  {
   "cell_type": "code",
   "execution_count": 25,
   "metadata": {},
   "outputs": [
    {
     "data": {
      "text/plain": [
       "2"
      ]
     },
     "execution_count": 25,
     "metadata": {},
     "output_type": "execute_result"
    }
   ],
   "source": [
    "y_mel_test[2]"
   ]
  },
  {
   "cell_type": "code",
   "execution_count": 43,
   "metadata": {},
   "outputs": [],
   "source": [
    "#Transforming x_train and x_test \n",
    "x_train_pca = pca.transform(X_mel_train_reshape)\n",
    "x_test_pca = pca.transform(X_mel_test_reshape)\n",
    "\n",
    "#Add constant to x_train and x_test\n",
    "x_train_pca_cst = sm.add_constant(x_train_pca)\n",
    "x_test_pca_cst = sm.add_constant(x_test_pca)\n",
    "\n"
   ]
  },
  {
   "cell_type": "code",
   "execution_count": 45,
   "metadata": {},
   "outputs": [
    {
     "name": "stdout",
     "output_type": "stream",
     "text": [
      "Training Set Accuracy: 58.90509634431839%\n",
      "Testing Set Accuracy: 32.45334547109695%\n"
     ]
    },
    {
     "name": "stderr",
     "output_type": "stream",
     "text": [
      "/opt/anaconda3/lib/python3.7/site-packages/sklearn/linear_model/_logistic.py:765: ConvergenceWarning: lbfgs failed to converge (status=1):\n",
      "STOP: TOTAL NO. of ITERATIONS REACHED LIMIT.\n",
      "\n",
      "Increase the number of iterations (max_iter) or scale the data as shown in:\n",
      "    https://scikit-learn.org/stable/modules/preprocessing.html\n",
      "Please also refer to the documentation for alternative solver options:\n",
      "    https://scikit-learn.org/stable/modules/linear_model.html#logistic-regression\n",
      "  extra_warning_msg=_LOGISTIC_SOLVER_CONVERGENCE_MSG)\n"
     ]
    }
   ],
   "source": [
    "#Training\n",
    "model = LogisticRegression(C=100000).fit(x_train_pca_cst, y_mel_train)\n",
    "\n",
    "#Predict\n",
    "y_pred_train = model.predict(x_train_pca_cst)\n",
    "y_pred_test = model.predict(x_test_pca_cst)\n",
    "\n",
    "#Perfromance Evaluation\n",
    "train_score = accuracy_score(y_mel_train, y_pred_train)*100\n",
    "test_score = accuracy_score(y_mel_test, y_pred_test)*100\n",
    "\n",
    "print(\"Training Set Accuracy:\",str(train_score)+'%')\n",
    "print(\"Testing Set Accuracy:\",str(test_score)+'%')"
   ]
  },
  {
   "cell_type": "code",
   "execution_count": 66,
   "metadata": {},
   "outputs": [],
   "source": [
    "X = X_mel_train\n",
    "K = 10"
   ]
  },
  {
   "cell_type": "code",
   "execution_count": 67,
   "metadata": {},
   "outputs": [],
   "source": [
    "N = X.shape[0]\n",
    "centroids = X[np.random.choice(N, K, replace = False), :, :]"
   ]
  },
  {
   "cell_type": "code",
   "execution_count": 71,
   "metadata": {},
   "outputs": [
    {
     "data": {
      "text/plain": [
       "(128, 87)"
      ]
     },
     "execution_count": 71,
     "metadata": {},
     "output_type": "execute_result"
    }
   ],
   "source": [
    "centroids[0].shape"
   ]
  },
  {
   "cell_type": "markdown",
   "metadata": {},
   "source": [
    "# KMeans"
   ]
  },
  {
   "cell_type": "code",
   "execution_count": 18,
   "metadata": {},
   "outputs": [],
   "source": [
    "class Phil_KMeans(object):\n",
    "    # K is the K in KMeans\n",
    "    def __init__(self, K):\n",
    "        self.K = K\n",
    "    \n",
    "    def __make_one_hot(self, array):\n",
    "        one_hot = np.zeros(array.shape)\n",
    "        min_pos = np.array([np.argmin(row) for row in array])\n",
    "        one_hot[np.arange(array.shape[0]), min_pos] = 1\n",
    "        return one_hot \n",
    "\n",
    "    def __distance(self, p1, p2):\n",
    "        # calulate the l2 distance between points, i.e. euclidean\n",
    "        # each is a 1xD matrix\n",
    "        return sum(pow(p1-p2, 2))\n",
    "       \n",
    "    # X is a (N x 28 x 28) array where 28x28 is the dimensions of each of the N images.\n",
    "    def fit(self, X):\n",
    "        # 1 Find the cluster centers (cluster mean)\n",
    "        def cluster_mean(resp, data):\n",
    "            # for each datapoint in cluster c,\n",
    "            # sum it's vals and divide by number in class\n",
    "            class_sums = np.zeros((resp.shape[1], data.shape[1]))\n",
    "            for point, res in zip(data, resp):\n",
    "                class_sums[np.argmax(res)] += point\n",
    "            # count up the number of datapoints in each class    \n",
    "            class_counts = np.sum(resp, axis=0)\n",
    "            \n",
    "            # class_mean = np.divide(class_sums, class_counts)\n",
    "            class_mean = []\n",
    "            for class_sum, class_count in zip(class_sums, class_counts):\n",
    "                class_mean.append(np.divide(class_sum, class_count))\n",
    "                \n",
    "            class_mean = np.array(class_mean)\n",
    "            return class_mean \n",
    "\n",
    "        # 2 adjust reponsibility vectors\n",
    "        def adjust_resp(mu, data):\n",
    "            # resp dims: NxC\n",
    "            # mu dims:\n",
    "            positions = []\n",
    "            for point in data:\n",
    "                distances = []\n",
    "                for class_mean in mu:\n",
    "                    distances.append(self.__distance(class_mean, point))\n",
    "                one_ht = np.zeros(mu.shape[0])\n",
    "                one_ht[np.argmin(distances)] = 1\n",
    "                positions.append(one_ht)\n",
    "                \n",
    "            return np.array(positions)\n",
    "\n",
    "        # 3 calculate the loss\n",
    "        def loss_func(data, mu, resp):\n",
    "            loss_list = []\n",
    "            # Loop through each datapoint in the dataset\n",
    "            for datapoint, res in zip(data, resp):\n",
    "                cluster = np.argmax(res)\n",
    "                loss_list.append(self.__distance(datapoint, mu[cluster]))\n",
    "            return sum(loss_list)\n",
    "\n",
    "        # initialisation of cluster asignment i.e. responsibility vectors\n",
    "        self.resp = self.__make_one_hot(np.random.randn(X.shape[0], self.K))\n",
    "        # Set inital mu\n",
    "        self.mu = np.random.randn(self.K, X.shape[1])\n",
    "        self.loss_list = []\n",
    "\n",
    "        # record the losses at each epoch\n",
    "        converge = False\n",
    "        epoch = 0\n",
    "        while not converge:\n",
    "            # 1 calc the mean of the clusters\n",
    "            self.mu = cluster_mean(self.resp, X)\n",
    "            \n",
    "            # 2 Calc the loss\n",
    "            current_loss = loss_func(X, self.mu, self.resp)\n",
    "\n",
    "            # 3 adjust the responsibility vectors\n",
    "            new_resp = adjust_resp(self.mu, X)\n",
    "            if np.array_equal(new_resp, self.resp):\n",
    "                converge = True\n",
    "            self.resp = new_resp\n",
    "            epoch += 1\n",
    "            self.loss_list.append(current_loss)\n",
    "            print(\"Epoch:\", epoch)\n"
   ]
  },
  {
   "cell_type": "code",
   "execution_count": 15,
   "metadata": {},
   "outputs": [],
   "source": [
    "class KMeans_(object):\n",
    "    # K is the K in KMeans\n",
    "    def __init__(self, K):\n",
    "        self.K = K\n",
    "\n",
    "    def fit(self, X, scale = False):\n",
    "        self.X = X\n",
    "        \n",
    "        if scale:\n",
    "            mean = np.mean(X, keepdims = True, axis = 0)\n",
    "            std = np.std(X, keepdims = True, axis = 0)\n",
    "            std[std == 0] = 1\n",
    "            X = (X - mean)/std\n",
    "            \n",
    "        N = X.shape[0]\n",
    "        centroids = X[np.random.choice(N, self.K, replace = False), :, :]\n",
    "        \n",
    "        #wht is this\n",
    "        if scale:\n",
    "            centroids = np.array([np.random.normal(0,1,X_mel_train.shape[1]*X_mel_train.shape[2]).reshape(X_mel_train.shape[1],X_mel_train.shape[2]) for i in range(self.K)])\n",
    "\n",
    "        distances = np.zeros([N, self.K])\n",
    "        prev = np.zeros(N)\n",
    "        \n",
    "        self.mse_temp = []\n",
    "        self.num_different_temp = []\n",
    "         \n",
    "        count = 0\n",
    "        stop = False\n",
    "        while not stop:\n",
    "            count += 1\n",
    "            for k in range(self.K):\n",
    "\n",
    "                distances[:, k] = np.ravel(np.apply_over_axes(np.mean, (X - centroids[k,:,:])**2, (1,2)))\n",
    "            \n",
    "            new_cluster = np.apply_along_axis(np.argmin, 1, distances)\n",
    "            \n",
    "            #column wise \n",
    "            self.mse_temp.append(np.mean(np.apply_along_axis(np.min, 1, distances)))\n",
    "                        \n",
    "            #how know when to stop????\n",
    "            stop = np.array_equal(new_cluster, prev)\n",
    "            if stop:\n",
    "                break\n",
    "\n",
    "            prev = new_cluster\n",
    "            for k in range(self.K):\n",
    "                centroids[k,:,:] = np.apply_along_axis(np.mean, 0, X[new_cluster == k,:,:])\n",
    "                            \n",
    "        self.clusters = new_cluster\n",
    "        self.centroids = centroids\n",
    "\n",
    "    def predict(self, arr):\n",
    "            pass"
   ]
  },
  {
   "cell_type": "code",
   "execution_count": 22,
   "metadata": {},
   "outputs": [],
   "source": [
    "xflat = X_mel_train.reshape(X_mel_train.shape[0], -1)"
   ]
  },
  {
   "cell_type": "code",
   "execution_count": 23,
   "metadata": {},
   "outputs": [
    {
     "name": "stdout",
     "output_type": "stream",
     "text": [
      "Epoch: 1\n",
      "Epoch: 2\n"
     ]
    },
    {
     "ename": "KeyboardInterrupt",
     "evalue": "",
     "output_type": "error",
     "traceback": [
      "\u001b[0;31m---------------------------------------------------------------------------\u001b[0m",
      "\u001b[0;31mKeyboardInterrupt\u001b[0m                         Traceback (most recent call last)",
      "\u001b[0;32m<ipython-input-23-cbd0c337d9b1>\u001b[0m in \u001b[0;36m<module>\u001b[0;34m\u001b[0m\n\u001b[1;32m      1\u001b[0m \u001b[0;31m# P's Classifier\u001b[0m\u001b[0;34m\u001b[0m\u001b[0;34m\u001b[0m\u001b[0;34m\u001b[0m\u001b[0m\n\u001b[1;32m      2\u001b[0m \u001b[0mpkm\u001b[0m \u001b[0;34m=\u001b[0m \u001b[0mPhil_KMeans\u001b[0m\u001b[0;34m(\u001b[0m\u001b[0mK\u001b[0m\u001b[0;34m=\u001b[0m\u001b[0;36m10\u001b[0m\u001b[0;34m)\u001b[0m\u001b[0;34m\u001b[0m\u001b[0;34m\u001b[0m\u001b[0m\n\u001b[0;32m----> 3\u001b[0;31m \u001b[0mpkm\u001b[0m\u001b[0;34m.\u001b[0m\u001b[0mfit\u001b[0m\u001b[0;34m(\u001b[0m\u001b[0mxflat\u001b[0m\u001b[0;34m)\u001b[0m\u001b[0;34m\u001b[0m\u001b[0;34m\u001b[0m\u001b[0m\n\u001b[0m",
      "\u001b[0;32m<ipython-input-18-a13b9a4fbcbd>\u001b[0m in \u001b[0;36mfit\u001b[0;34m(self, X)\u001b[0m\n\u001b[1;32m     76\u001b[0m \u001b[0;34m\u001b[0m\u001b[0m\n\u001b[1;32m     77\u001b[0m             \u001b[0;31m# 3 adjust the responsibility vectors\u001b[0m\u001b[0;34m\u001b[0m\u001b[0;34m\u001b[0m\u001b[0;34m\u001b[0m\u001b[0m\n\u001b[0;32m---> 78\u001b[0;31m             \u001b[0mnew_resp\u001b[0m \u001b[0;34m=\u001b[0m \u001b[0madjust_resp\u001b[0m\u001b[0;34m(\u001b[0m\u001b[0mself\u001b[0m\u001b[0;34m.\u001b[0m\u001b[0mmu\u001b[0m\u001b[0;34m,\u001b[0m \u001b[0mX\u001b[0m\u001b[0;34m)\u001b[0m\u001b[0;34m\u001b[0m\u001b[0;34m\u001b[0m\u001b[0m\n\u001b[0m\u001b[1;32m     79\u001b[0m             \u001b[0;32mif\u001b[0m \u001b[0mnp\u001b[0m\u001b[0;34m.\u001b[0m\u001b[0marray_equal\u001b[0m\u001b[0;34m(\u001b[0m\u001b[0mnew_resp\u001b[0m\u001b[0;34m,\u001b[0m \u001b[0mself\u001b[0m\u001b[0;34m.\u001b[0m\u001b[0mresp\u001b[0m\u001b[0;34m)\u001b[0m\u001b[0;34m:\u001b[0m\u001b[0;34m\u001b[0m\u001b[0;34m\u001b[0m\u001b[0m\n\u001b[1;32m     80\u001b[0m                 \u001b[0mconverge\u001b[0m \u001b[0;34m=\u001b[0m \u001b[0;32mTrue\u001b[0m\u001b[0;34m\u001b[0m\u001b[0;34m\u001b[0m\u001b[0m\n",
      "\u001b[0;32m<ipython-input-18-a13b9a4fbcbd>\u001b[0m in \u001b[0;36madjust_resp\u001b[0;34m(mu, data)\u001b[0m\n\u001b[1;32m     43\u001b[0m                 \u001b[0mdistances\u001b[0m \u001b[0;34m=\u001b[0m \u001b[0;34m[\u001b[0m\u001b[0;34m]\u001b[0m\u001b[0;34m\u001b[0m\u001b[0;34m\u001b[0m\u001b[0m\n\u001b[1;32m     44\u001b[0m                 \u001b[0;32mfor\u001b[0m \u001b[0mclass_mean\u001b[0m \u001b[0;32min\u001b[0m \u001b[0mmu\u001b[0m\u001b[0;34m:\u001b[0m\u001b[0;34m\u001b[0m\u001b[0;34m\u001b[0m\u001b[0m\n\u001b[0;32m---> 45\u001b[0;31m                     \u001b[0mdistances\u001b[0m\u001b[0;34m.\u001b[0m\u001b[0mappend\u001b[0m\u001b[0;34m(\u001b[0m\u001b[0mself\u001b[0m\u001b[0;34m.\u001b[0m\u001b[0m__distance\u001b[0m\u001b[0;34m(\u001b[0m\u001b[0mclass_mean\u001b[0m\u001b[0;34m,\u001b[0m \u001b[0mpoint\u001b[0m\u001b[0;34m)\u001b[0m\u001b[0;34m)\u001b[0m\u001b[0;34m\u001b[0m\u001b[0;34m\u001b[0m\u001b[0m\n\u001b[0m\u001b[1;32m     46\u001b[0m                 \u001b[0mone_ht\u001b[0m \u001b[0;34m=\u001b[0m \u001b[0mnp\u001b[0m\u001b[0;34m.\u001b[0m\u001b[0mzeros\u001b[0m\u001b[0;34m(\u001b[0m\u001b[0mmu\u001b[0m\u001b[0;34m.\u001b[0m\u001b[0mshape\u001b[0m\u001b[0;34m[\u001b[0m\u001b[0;36m0\u001b[0m\u001b[0;34m]\u001b[0m\u001b[0;34m)\u001b[0m\u001b[0;34m\u001b[0m\u001b[0;34m\u001b[0m\u001b[0m\n\u001b[1;32m     47\u001b[0m                 \u001b[0mone_ht\u001b[0m\u001b[0;34m[\u001b[0m\u001b[0mnp\u001b[0m\u001b[0;34m.\u001b[0m\u001b[0margmin\u001b[0m\u001b[0;34m(\u001b[0m\u001b[0mdistances\u001b[0m\u001b[0;34m)\u001b[0m\u001b[0;34m]\u001b[0m \u001b[0;34m=\u001b[0m \u001b[0;36m1\u001b[0m\u001b[0;34m\u001b[0m\u001b[0;34m\u001b[0m\u001b[0m\n",
      "\u001b[0;32m<ipython-input-18-a13b9a4fbcbd>\u001b[0m in \u001b[0;36m__distance\u001b[0;34m(self, p1, p2)\u001b[0m\n\u001b[1;32m     13\u001b[0m         \u001b[0;31m# calulate the l2 distance between points, i.e. euclidean\u001b[0m\u001b[0;34m\u001b[0m\u001b[0;34m\u001b[0m\u001b[0;34m\u001b[0m\u001b[0m\n\u001b[1;32m     14\u001b[0m         \u001b[0;31m# each is a 1xD matrix\u001b[0m\u001b[0;34m\u001b[0m\u001b[0;34m\u001b[0m\u001b[0;34m\u001b[0m\u001b[0m\n\u001b[0;32m---> 15\u001b[0;31m         \u001b[0;32mreturn\u001b[0m \u001b[0msum\u001b[0m\u001b[0;34m(\u001b[0m\u001b[0mpow\u001b[0m\u001b[0;34m(\u001b[0m\u001b[0mp1\u001b[0m\u001b[0;34m-\u001b[0m\u001b[0mp2\u001b[0m\u001b[0;34m,\u001b[0m \u001b[0;36m2\u001b[0m\u001b[0;34m)\u001b[0m\u001b[0;34m)\u001b[0m\u001b[0;34m\u001b[0m\u001b[0;34m\u001b[0m\u001b[0m\n\u001b[0m\u001b[1;32m     16\u001b[0m \u001b[0;34m\u001b[0m\u001b[0m\n\u001b[1;32m     17\u001b[0m     \u001b[0;31m# X is a (N x 28 x 28) array where 28x28 is the dimensions of each of the N images.\u001b[0m\u001b[0;34m\u001b[0m\u001b[0;34m\u001b[0m\u001b[0;34m\u001b[0m\u001b[0m\n",
      "\u001b[0;31mKeyboardInterrupt\u001b[0m: "
     ]
    }
   ],
   "source": [
    "# P's Classifier\n",
    "pkm = Phil_KMeans(K=10)\n",
    "pkm.fit(xflat)"
   ]
  },
  {
   "cell_type": "code",
   "execution_count": 17,
   "metadata": {},
   "outputs": [
    {
     "data": {
      "text/plain": [
       "(5553,)"
      ]
     },
     "execution_count": 17,
     "metadata": {},
     "output_type": "execute_result"
    }
   ],
   "source": [
    "km.clusters.shape"
   ]
  },
  {
   "cell_type": "code",
   "execution_count": null,
   "metadata": {},
   "outputs": [],
   "source": [
    "# N's Classifier\n",
    "km = KMeans_(K=10)\n",
    "km.fit(X_mel_train, True)"
   ]
  },
  {
   "cell_type": "code",
   "execution_count": 16,
   "metadata": {},
   "outputs": [
    {
     "ename": "NameError",
     "evalue": "name 'KMeansClassifier' is not defined",
     "output_type": "error",
     "traceback": [
      "\u001b[0;31m---------------------------------------------------------------------------\u001b[0m",
      "\u001b[0;31mNameError\u001b[0m                                 Traceback (most recent call last)",
      "\u001b[0;32m<ipython-input-16-c718afa61de8>\u001b[0m in \u001b[0;36m<module>\u001b[0;34m\u001b[0m\n\u001b[1;32m      5\u001b[0m \u001b[0;34m\u001b[0m\u001b[0m\n\u001b[1;32m      6\u001b[0m \u001b[0;31m# KMeansClassifier.centroids.shape\u001b[0m\u001b[0;34m\u001b[0m\u001b[0;34m\u001b[0m\u001b[0;34m\u001b[0m\u001b[0m\n\u001b[0;32m----> 7\u001b[0;31m \u001b[0mprint\u001b[0m\u001b[0;34m(\u001b[0m\u001b[0maccuracy_score\u001b[0m\u001b[0;34m(\u001b[0m\u001b[0mKMeansClassifier\u001b[0m\u001b[0;34m.\u001b[0m\u001b[0mclusters\u001b[0m\u001b[0;34m,\u001b[0m \u001b[0my_mel_train\u001b[0m\u001b[0;34m)\u001b[0m\u001b[0;34m)\u001b[0m\u001b[0;34m\u001b[0m\u001b[0;34m\u001b[0m\u001b[0m\n\u001b[0m",
      "\u001b[0;31mNameError\u001b[0m: name 'KMeansClassifier' is not defined"
     ]
    }
   ],
   "source": [
    "\n",
    "\n",
    "# KMeansClassifier.centroids.shape\n",
    "print(accuracy_score(KMeansClassifier.clusters, y_mel_train))"
   ]
  },
  {
   "cell_type": "code",
   "execution_count": 9,
   "metadata": {},
   "outputs": [
    {
     "name": "stdout",
     "output_type": "stream",
     "text": [
      "0.12605798667386997\n"
     ]
    }
   ],
   "source": [
    "from sklearn.cluster import KMeans\n",
    "from sklearn.metrics import accuracy_score\n",
    "\n",
    "\n",
    "\n",
    "kmeans = KMeans(n_clusters=10)\n",
    "kmeans.fit(X_amp_train)\n",
    "y_pred = kmeans.predict(X_amp_train)\n",
    "\n",
    "print(accuracy_score(y_amp_train, y_pred))"
   ]
  },
  {
   "cell_type": "code",
   "execution_count": null,
   "metadata": {},
   "outputs": [],
   "source": [
    "def predict_knn(k=1):\n",
    "    \"\"\"Returns predictions using KNN predictor with the specified k.\"\"\"\n",
    "    # TODO: your code here\n",
    "    y_pred_list = []\n",
    "    \n",
    "    for value in df.itertuples():\n",
    "        x = np.array([value[1], value[2]])\n",
    "        alt_data = list(df[[\"x1\", \"x2\", \"y\"]][:value[0]].append( df[[\"x1\", \"x2\",\"y\"]][value[0]+1:], ignore_index=True).to_records(index=False))\n",
    "        y_pred_list.append(knn_regression(k, x, alt_data))\n",
    "        \n",
    "    return pd.Series(y_pred_list)"
   ]
  },
  {
   "cell_type": "code",
   "execution_count": null,
   "metadata": {},
   "outputs": [],
   "source": []
  },
  {
   "cell_type": "code",
   "execution_count": null,
   "metadata": {},
   "outputs": [],
   "source": []
  },
  {
   "cell_type": "markdown",
   "metadata": {},
   "source": [
    "## Random Forests"
   ]
  },
  {
   "cell_type": "code",
   "execution_count": 64,
   "metadata": {},
   "outputs": [],
   "source": [
    "import sklearn.metrics as metrics\n",
    "from sklearn.model_selection import cross_val_score\n",
    "from sklearn.metrics import accuracy_score\n",
    "from sklearn import tree\n",
    "from sklearn.tree import DecisionTreeClassifier\n",
    "from sklearn.ensemble import RandomForestClassifier\n",
    "from sklearn.ensemble import AdaBoostClassifier\n",
    "from sklearn.linear_model import LogisticRegressionCV\n",
    "from sklearn.model_selection import KFold\n",
    "from sklearn.metrics import confusion_matrix"
   ]
  },
  {
   "cell_type": "code",
   "execution_count": 65,
   "metadata": {},
   "outputs": [],
   "source": [
    "depth, tree_start, tree_end = {}, 5, 10\n",
    "for i in range(tree_start, tree_end):\n",
    "    model = DecisionTreeClassifier(max_depth=i)\n",
    "    scores = cross_val_score(estimator=model, X=X_amp_train, y=y_amp_train, cv=5, n_jobs=-1)\n",
    "    depth[i] = scores.mean()"
   ]
  },
  {
   "cell_type": "code",
   "execution_count": 66,
   "metadata": {},
   "outputs": [
    {
     "data": {
      "image/png": "[encoded data removed]",
      "text/plain": [
       "<Figure size 432x288 with 1 Axes>"
      ]
     },
     "metadata": {
      "needs_background": "light"
     },
     "output_type": "display_data"
    }
   ],
   "source": [
    "lists = sorted(depth.items())\n",
    "x, y = zip(*lists) \n",
    "plt.ylabel(\"Cross Validation Accuracy\")\n",
    "plt.xlabel(\"Maximum Depth\")\n",
    "plt.title('Variation of Accuracy with Depth - Simple Decision Tree')\n",
    "plt.plot(x, y, 'b-', marker='o')\n",
    "plt.show()"
   ]
  },
  {
   "cell_type": "code",
   "execution_count": 67,
   "metadata": {},
   "outputs": [
    {
     "name": "stdout",
     "output_type": "stream",
     "text": [
      "The best depth was found to be: 9\n"
     ]
    }
   ],
   "source": [
    "best_depth = sorted(depth, key=depth.get, reverse=True)[0]\n",
    "print(\"The best depth was found to be:\", best_depth)"
   ]
  },
  {
   "cell_type": "code",
   "execution_count": 68,
   "metadata": {},
   "outputs": [
    {
     "name": "stdout",
     "output_type": "stream",
     "text": [
      "Accuracy, Training Set: 46.12%\n",
      "Accuracy, Testing Set: 19.44%\n"
     ]
    }
   ],
   "source": [
    "model = DecisionTreeClassifier(max_depth=best_depth)\n",
    "model.fit(X_amp_train, y_amp_train)\n",
    "\n",
    "#Check Accuracy of Spam Detection in Train and Test Set\n",
    "print(\"Accuracy, Training Set: {:.2%}\".format(accuracy_score(y_amp_train, model.predict(X_amp_train))))\n",
    "print(\"Accuracy, Testing Set: {:.2%}\".format(accuracy_score(y_amp_test, model.predict(X_amp_test))))\n",
    "\n"
   ]
  },
  {
   "cell_type": "code",
   "execution_count": 71,
   "metadata": {},
   "outputs": [
    {
     "data": {
      "text/html": [
       "<div>\n",
       "<style scoped>\n",
       "    .dataframe tbody tr th:only-of-type {\n",
       "        vertical-align: middle;\n",
       "    }\n",
       "\n",
       "    .dataframe tbody tr th {\n",
       "        vertical-align: top;\n",
       "    }\n",
       "\n",
       "    .dataframe thead th {\n",
       "        text-align: right;\n",
       "    }\n",
       "</style>\n",
       "<table border=\"1\" class=\"dataframe\">\n",
       "  <thead>\n",
       "    <tr style=\"text-align: right;\">\n",
       "      <th>Predicted</th>\n",
       "      <th>0</th>\n",
       "      <th>1</th>\n",
       "      <th>2</th>\n",
       "      <th>3</th>\n",
       "      <th>4</th>\n",
       "      <th>5</th>\n",
       "      <th>6</th>\n",
       "      <th>7</th>\n",
       "      <th>8</th>\n",
       "      <th>9</th>\n",
       "      <th>All</th>\n",
       "    </tr>\n",
       "    <tr>\n",
       "      <th>Actual</th>\n",
       "      <th></th>\n",
       "      <th></th>\n",
       "      <th></th>\n",
       "      <th></th>\n",
       "      <th></th>\n",
       "      <th></th>\n",
       "      <th></th>\n",
       "      <th></th>\n",
       "      <th></th>\n",
       "      <th></th>\n",
       "      <th></th>\n",
       "    </tr>\n",
       "  </thead>\n",
       "  <tbody>\n",
       "    <tr>\n",
       "      <th>0</th>\n",
       "      <td>56</td>\n",
       "      <td>1</td>\n",
       "      <td>61</td>\n",
       "      <td>10</td>\n",
       "      <td>21</td>\n",
       "      <td>60</td>\n",
       "      <td>0</td>\n",
       "      <td>32</td>\n",
       "      <td>26</td>\n",
       "      <td>33</td>\n",
       "      <td>300</td>\n",
       "    </tr>\n",
       "    <tr>\n",
       "      <th>1</th>\n",
       "      <td>4</td>\n",
       "      <td>0</td>\n",
       "      <td>4</td>\n",
       "      <td>0</td>\n",
       "      <td>6</td>\n",
       "      <td>7</td>\n",
       "      <td>0</td>\n",
       "      <td>7</td>\n",
       "      <td>3</td>\n",
       "      <td>8</td>\n",
       "      <td>39</td>\n",
       "    </tr>\n",
       "    <tr>\n",
       "      <th>2</th>\n",
       "      <td>43</td>\n",
       "      <td>2</td>\n",
       "      <td>112</td>\n",
       "      <td>57</td>\n",
       "      <td>12</td>\n",
       "      <td>28</td>\n",
       "      <td>0</td>\n",
       "      <td>8</td>\n",
       "      <td>20</td>\n",
       "      <td>17</td>\n",
       "      <td>299</td>\n",
       "    </tr>\n",
       "    <tr>\n",
       "      <th>3</th>\n",
       "      <td>30</td>\n",
       "      <td>2</td>\n",
       "      <td>57</td>\n",
       "      <td>45</td>\n",
       "      <td>13</td>\n",
       "      <td>23</td>\n",
       "      <td>2</td>\n",
       "      <td>15</td>\n",
       "      <td>22</td>\n",
       "      <td>20</td>\n",
       "      <td>229</td>\n",
       "    </tr>\n",
       "    <tr>\n",
       "      <th>4</th>\n",
       "      <td>30</td>\n",
       "      <td>3</td>\n",
       "      <td>52</td>\n",
       "      <td>11</td>\n",
       "      <td>41</td>\n",
       "      <td>25</td>\n",
       "      <td>4</td>\n",
       "      <td>28</td>\n",
       "      <td>29</td>\n",
       "      <td>41</td>\n",
       "      <td>264</td>\n",
       "    </tr>\n",
       "    <tr>\n",
       "      <th>5</th>\n",
       "      <td>62</td>\n",
       "      <td>2</td>\n",
       "      <td>33</td>\n",
       "      <td>7</td>\n",
       "      <td>10</td>\n",
       "      <td>73</td>\n",
       "      <td>3</td>\n",
       "      <td>31</td>\n",
       "      <td>19</td>\n",
       "      <td>24</td>\n",
       "      <td>264</td>\n",
       "    </tr>\n",
       "    <tr>\n",
       "      <th>6</th>\n",
       "      <td>4</td>\n",
       "      <td>0</td>\n",
       "      <td>7</td>\n",
       "      <td>14</td>\n",
       "      <td>0</td>\n",
       "      <td>1</td>\n",
       "      <td>0</td>\n",
       "      <td>1</td>\n",
       "      <td>2</td>\n",
       "      <td>1</td>\n",
       "      <td>30</td>\n",
       "    </tr>\n",
       "    <tr>\n",
       "      <th>7</th>\n",
       "      <td>27</td>\n",
       "      <td>7</td>\n",
       "      <td>38</td>\n",
       "      <td>16</td>\n",
       "      <td>28</td>\n",
       "      <td>37</td>\n",
       "      <td>1</td>\n",
       "      <td>32</td>\n",
       "      <td>26</td>\n",
       "      <td>24</td>\n",
       "      <td>236</td>\n",
       "    </tr>\n",
       "    <tr>\n",
       "      <th>8</th>\n",
       "      <td>26</td>\n",
       "      <td>2</td>\n",
       "      <td>65</td>\n",
       "      <td>50</td>\n",
       "      <td>13</td>\n",
       "      <td>11</td>\n",
       "      <td>4</td>\n",
       "      <td>14</td>\n",
       "      <td>33</td>\n",
       "      <td>18</td>\n",
       "      <td>236</td>\n",
       "    </tr>\n",
       "    <tr>\n",
       "      <th>9</th>\n",
       "      <td>55</td>\n",
       "      <td>2</td>\n",
       "      <td>45</td>\n",
       "      <td>23</td>\n",
       "      <td>15</td>\n",
       "      <td>49</td>\n",
       "      <td>1</td>\n",
       "      <td>48</td>\n",
       "      <td>27</td>\n",
       "      <td>35</td>\n",
       "      <td>300</td>\n",
       "    </tr>\n",
       "    <tr>\n",
       "      <th>All</th>\n",
       "      <td>337</td>\n",
       "      <td>21</td>\n",
       "      <td>474</td>\n",
       "      <td>233</td>\n",
       "      <td>159</td>\n",
       "      <td>314</td>\n",
       "      <td>15</td>\n",
       "      <td>216</td>\n",
       "      <td>207</td>\n",
       "      <td>221</td>\n",
       "      <td>2197</td>\n",
       "    </tr>\n",
       "  </tbody>\n",
       "</table>\n",
       "</div>"
      ],
      "text/plain": [
       "Predicted    0   1    2    3    4    5   6    7    8    9   All\n",
       "Actual                                                         \n",
       "0           56   1   61   10   21   60   0   32   26   33   300\n",
       "1            4   0    4    0    6    7   0    7    3    8    39\n",
       "2           43   2  112   57   12   28   0    8   20   17   299\n",
       "3           30   2   57   45   13   23   2   15   22   20   229\n",
       "4           30   3   52   11   41   25   4   28   29   41   264\n",
       "5           62   2   33    7   10   73   3   31   19   24   264\n",
       "6            4   0    7   14    0    1   0    1    2    1    30\n",
       "7           27   7   38   16   28   37   1   32   26   24   236\n",
       "8           26   2   65   50   13   11   4   14   33   18   236\n",
       "9           55   2   45   23   15   49   1   48   27   35   300\n",
       "All        337  21  474  233  159  314  15  216  207  221  2197"
      ]
     },
     "execution_count": 71,
     "metadata": {},
     "output_type": "execute_result"
    }
   ],
   "source": [
    "pd.crosstab(y_amp_test, model.predict(X_amp_test), margins=True, rownames=['Actual'], colnames=['Predicted'])"
   ]
  },
  {
   "cell_type": "markdown",
   "metadata": {},
   "source": [
    "## Tune Hyperparameters\n"
   ]
  },
  {
   "cell_type": "markdown",
   "metadata": {},
   "source": [
    "#### Bagging"
   ]
  },
  {
   "cell_type": "code",
   "execution_count": null,
   "metadata": {},
   "outputs": [],
   "source": [
    "#Creating model\n",
    "np.random.seed(0)\n",
    "model = DecisionTreeClassifier(max_depth=5) # we tried a variety of depths here\n",
    "\n",
    "#Initializing variables\n",
    "n_trees = 100 # we tried a variety of numbers here\n",
    "predictions_train = np.zeros((data_train.shape[0], n_trees))\n",
    "predictions_test = np.zeros((data_test.shape[0], n_trees))\n",
    "\n",
    "#Conduct bootstraping iterations\n",
    "for i in range(n_trees):\n",
    "    temp = data_train.sample(frac=1, replace=True)\n",
    "    response_variable = temp['Spam']\n",
    "    temp = temp.drop(['Spam'], axis=1)\n",
    "    model.fit(temp, response_variable)  \n",
    "    predictions_train[:,i] = model.predict(x_train)   \n",
    "    predictions_test[:,i] = model.predict(x_test)\n",
    "    \n",
    "#Make Predictions Dataframe\n",
    "columns = [\"Bootstrap-Model_\"+str(i+1) for i in range(n_trees)]\n",
    "predictions_train = pd.DataFrame(predictions_train, columns=columns)\n",
    "predictions_test = pd.DataFrame(predictions_test, columns=columns)"
   ]
  }
 ],
 "metadata": {
  "kernelspec": {
   "display_name": "Python 3",
   "language": "python",
   "name": "python3"
  },
  "language_info": {
   "codemirror_mode": {
    "name": "ipython",
    "version": 3
   },
   "file_extension": ".py",
   "mimetype": "text/x-python",
   "name": "python",
   "nbconvert_exporter": "python",
   "pygments_lexer": "ipython3",
   "version": "3.8.4"
  }
 },
 "nbformat": 4,
 "nbformat_minor": 2
}
